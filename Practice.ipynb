{
 "cells": [
  {
   "cell_type": "code",
   "execution_count": 1,
   "metadata": {},
   "outputs": [],
   "source": [
    "artist = 'Aretha Franklin'\n",
    "songs = ['Young, Gifted, & Black', 'Daydreaming',  \"I Get High\"]"
   ]
  },
  {
   "cell_type": "code",
   "execution_count": 2,
   "metadata": {},
   "outputs": [],
   "source": [
    "import requests"
   ]
  },
  {
   "cell_type": "code",
   "execution_count": 6,
   "metadata": {},
   "outputs": [
    {
     "data": {
      "text/plain": [
       "<Response [200]>"
      ]
     },
     "execution_count": 6,
     "metadata": {},
     "output_type": "execute_result"
    }
   ],
   "source": [
    "requests.get('https://lyricsovh.docs.apiary.io/#')"
   ]
  },
  {
   "cell_type": "code",
   "execution_count": 7,
   "metadata": {},
   "outputs": [
    {
     "data": {
      "text/plain": [
       "b'<!doctype html>\\n<html>\\n<head>\\n  <title>lyrics.ovh \\xc2\\xb7 Apiary</title>\\n  <meta charset=\"utf-8\">\\n\\n  <meta name=\"google-site-verification\" content=\"2xk1RgCJ7lGo7pJ826cos7moPjcExpih-yXTxfTJ7KU\">\\n  <meta http-equiv=\"X-UA-Compatible\" content=\"IE=edge,chrome=1\">\\n\\n  <meta name=\"description\" content=\"A place where APIs are kept.\">\\n  <meta name=\"author\" content=\"Apiary\">\\n\\n  <meta name=\"referrer\" content=\"origin\">\\n\\n  <meta name=\"viewport\" content=\"width=device-width, initial-scale=1.0\">\\n\\n  <link rel=\"canonical\" href=\"https://lyricsovh.docs.apiary.io/\">\\n  <link rel=\"shortcut icon\" href=\"https://static.apiary.io/assets/3aqvBs0H.ico\">\\n  <link rel=\"apple-touch-icon-precomposed\" href=\"https://static.apiary.io/assets/2LhCErCD.png\">\\n  <link rel=\"apple-touch-icon-precomposed\" sizes=\"72x72\" href=\"https://static.apiary.io/assets/kcRGh7aY.png\">\\n  <link rel=\"apple-touch-icon-precomposed\" sizes=\"114x114\" href=\"https://static.apiary.io/assets/3y9KoZlJ.png\">\\n  <link rel=\"apple-touch-icon-precomposed\" sizes=\"144x144\" href=\"https://static.apiary.io/assets/fX9wgjhh.png\">\\n\\n    <!-- atom feed autodiscovery -->\\n  <link rel=\"alternate\" type=\"application/atom+xml\" title=\"API changes - Atom feed\" href=\"https://lyricsovh.docs.apiary.io/feed\" />\\n  <link rel=\"alternate\" type=\"application/rss+xml\" title=\"API changes - RSS feed\" href=\"https://lyricsovh.docs.apiary.io/feed/rss\">\\n  \\n    <link rel=\"chrome-webstore-item\" href=\"https://chrome.google.com/webstore/detail/cboekbiaoabkhgjdclenjpipclabkdga\">\\n  \\n\\n  <!-- Styles -->\\n  <link rel=\\'stylesheet\\' crossorigin=\"anonymous\" href=\"https://static.apiary.io/assets/docs-5b6e4407.css\">  <!-- /Styles -->\\n\\n</head>\\n  <body id=\"application\" class=\"app API_DOCUMENTATION\">\\n\\n    <noscript>\\n      <div class=\"noscript\">\\n        <a href=\"https://apiary.io/\" title=\"Apiary Home\">\\n          <img src=\"https://static.apiary.io/assets/v6Zkz37_.png\" alt=\"Apiary Logo\" class=\"noscript__logo\">\\n        </a>\\n\\n        <div class=\"noscript__header\">\\n          <span class=\"noscript__jslogo\"></span>\\n          JavaScript is disabled\\n        </div>\\n\\n        <div class=\"noscript__help\">\\n          Please continue <a href=\"http://enable-javascript.com/\" class=\"noscript__link\">here</a> to find out how to\\n          <br>\\n          enable it in your browser.\\n        </div>\\n      </div>\\n    </noscript>\\n\\n    \\n\\n        <!-- Header -->\\n    <div id=\"applicationHeaderContainer\"></div>\\n    <!-- /Header -->\\n    \\n    <!-- Content -->\\n    <div id=\"applicationContent\">\\n          </div>\\n    <!-- /Content -->\\n\\n    <!-- Loading -->\\n    <div id=\"applicationLoading\"></div>\\n    <!-- /Loading -->\\n\\n    <!-- LoadingBar -->\\n    <div id=\"applicationLoadingBarContainer\" class=\"hidden\">\\n      <div id=\"applicationLoadingBar\"></div>\\n    </div>\\n    <!-- LoadingBar -->\\n\\n  </body>\\n\\n  <!-- Legacy Bootstrap -->\\n  <script>\\n    if (!window.config) {\\n      window.config = {};\\n    }\\n\\n    window.csrf = \"\";\\n    window.jsLoginUrl    = \"\";\\n        window.trafficSecret = \"\";\\n    window.tryItUrl    = \"\";\\n    window.mockserverUrl    = \"\";\\n    window.loginUri      = \"\";\\n    window.baseDomain    = \"\";\\n\\n        window.config.baseAjaxUrl = \"https://lyricsovh.docs.apiary.io/\";\\n    window.previewHelpers = window.previewHelpers || {};\\n\\n    \\n    window.previewHelpers.apiUrl = window.previewHelpers.mockserverUrl = \"\";\\n\\n      </script>\\n  <!-- /Legacy Bootstrap -->\\n\\n  <!-- Bootstrap -->\\n  <script>\\n    if (!window.Apiary)\\xc2\\xa0{\\n      window.Apiary = {};\\n    }\\n    window.Apiary.PAGE = \"API_DOCUMENTATION\";\\n    window.Apiary.APPLICATION_DATA = {\"apiName\":\"lyrics.ovh\",\"apiSubdomain\":\"lyricsovh\",\"networkInitialCache\":\"{\\\\\"https://jsapi.apiary.io/user\\\\\":{\\\\\"body\\\\\":{},\\\\\"rawBody\\\\\":\\\\\"\\\\\",\\\\\"headers\\\\\":{},\\\\\"statusCode\\\\\":404}}\",\"applicationName\":\"docs\",\"features\":{\"3ColumnDocumentation\":true,\"highlightCharLimit\":10000,\"clientSideProxyConsole\":null,\"clientSideConsole\":true,\"browserExtensionConsole\":true},\"chromeExtensionId\":\"cboekbiaoabkhgjdclenjpipclabkdga\",\"circleCi\":null,\"domain\":\"apiary.io\",\"embedded\":false,\"isPreview\":false,\"environment\":\"production\",\"logLevel\":\"info\",\"port\":\"20300\",\"ssl\":null,\"sslPort\":null,\"staticHostPath\":\"https://static.apiary.io/assets\",\"staticMap\":null,\"titleSeparator\":\"\\\\u00B7\",\"isAnonymousApi\":false,\"supportEmail\":\"support@apiary.io\",\"apiEditorFeatures\":{\"fasterAnnotations\":1,\"fasterAnnotationsTimeout\":750,\"fasterAnnotationsParserEndpoint\":\"https://helium.apiary-services.com/validate\",\"fasterAnnotationsAlternativeParserEndpoint\":\"https://helium-alt.apiary-services.com/validate\",\"useAlternativeParser\":false},\"headerAnnouncementBar\":false,\"ocp\":1};\\n  </script>\\n  <!-- /Bootstrap -->\\n\\n  <!-- JavaScripts -->\\n  <script crossorigin=\"anonymous\">window.webpackManifest = {\"0\":\"0-2e8a7596.js\",\"1\":\"1-2e8a7596.js\",\"2\":\"2-2e8a7596.js\",\"3\":\"3-2e8a7596.js\",\"4\":\"4-2e8a7596.js\",\"5\":\"5-2e8a7596.js\",\"6\":\"6-2e8a7596.js\",\"7\":\"7-2e8a7596.js\",\"8\":\"8-2e8a7596.js\",\"9\":\"9-2e8a7596.js\",\"10\":\"10-2e8a7596.js\",\"11\":\"11-2e8a7596.js\",\"12\":\"12-2e8a7596.js\",\"13\":\"13-2e8a7596.js\",\"14\":\"14-2e8a7596.js\",\"15\":\"15-2e8a7596.js\",\"16\":\"16-2e8a7596.js\",\"17\":\"17-2e8a7596.js\",\"18\":\"18-2e8a7596.js\",\"19\":\"19-2e8a7596.js\",\"20\":\"20-2e8a7596.js\",\"21\":\"21-2e8a7596.js\",\"22\":\"22-2e8a7596.js\",\"23\":\"23-2e8a7596.js\",\"24\":\"24-2e8a7596.js\",\"25\":\"25-2e8a7596.js\",\"26\":\"26-2e8a7596.js\",\"27\":\"27-2e8a7596.js\",\"28\":\"28-2e8a7596.js\",\"29\":\"29-2e8a7596.js\"}</script><script src=\"https://static.apiary.io/assets/vendor-2e8a7596.js\" crossorigin=\"anonymous\"></script><script src=\"https://static.apiary.io/assets/docs-2e8a7596.js\" crossorigin=\"anonymous\"></script>  <!-- /JavaScripts -->\\n</html>\\n'"
      ]
     },
     "execution_count": 7,
     "metadata": {},
     "output_type": "execute_result"
    }
   ],
   "source": [
    "_.content"
   ]
  },
  {
   "cell_type": "code",
   "execution_count": 9,
   "metadata": {},
   "outputs": [
    {
     "name": "stdout",
     "output_type": "stream",
     "text": [
      "{\"lyrics\":\"To be young, gifted, and black;\\r\\nOh, what a lovely precious thing\\r\\nOh, when you're... yes, yes, when you're...\\r\\n\\nWhen you're young - yeah, thank you, Jesus! - gifted and black!\\r\\nOpen your heart, is all I need\\n\\nIn this whole world, you know\\n\\nThere's a millions of boys and girls\\n\\nWho are young, gifted and black\\n\\nWith their souls intact - and that's a fact!\\n\\n\\\"You are young, gifted and black,\\\" we must begin to tell our young\\n\\n\\\"There's a world waiting for you - Yours is the quest that's just begun\\\"\\n\\nWhen you feeling real low\\n\\nHere's a great truth that you should remember and know:\\n\\nThat you're young, gifted, and black!\\n\\nYou got your soul intact - oh, and that's a fact!\\n\\n\\n\\n(You're young, gifted, and black...)\\n\\nOh, it's a mighty sweet thing, yes, it is now\\n\\n(Young, gifted, and black...)\\n\\nOh, my sisters!\\n\\n(Young, gifted, and black...)\\n\\nYou're young and you're black, you got your soul intact\\n\\nYou got the future, don't you know it's a fact?\\n\\n(Young, gifted, and black...)\"}\n",
      "{\"lyrics\":\"To be young, gifted, and black;\\r\\nOh, what a lovely precious thing\\r\\nOh, when you're... yes, yes, when you're...\\r\\n\\nWhen you're young - yeah, thank you, Jesus! - gifted and black!\\r\\nOpen your heart, is all I need\\n\\nIn this whole world, you know\\n\\nThere's a millions of boys and girls\\n\\nWho are young, gifted and black\\n\\nWith their souls intact - and that's a fact!\\n\\n\\\"You are young, gifted and black,\\\" we must begin to tell our young\\n\\n\\\"There's a world waiting for you - Yours is the quest that's just begun\\\"\\n\\nWhen you feeling real low\\n\\nHere's a great truth that you should remember and know:\\n\\nThat you're young, gifted, and black!\\n\\nYou got your soul intact - oh, and that's a fact!\\n\\n\\n\\n(You're young, gifted, and black...)\\n\\nOh, it's a mighty sweet thing, yes, it is now\\n\\n(Young, gifted, and black...)\\n\\nOh, my sisters!\\n\\n(Young, gifted, and black...)\\n\\nYou're young and you're black, you got your soul intact\\n\\nYou got the future, don't you know it's a fact?\\n\\n(Young, gifted, and black...)\"}\n",
      "{\"lyrics\":\"To be young, gifted, and black;\\r\\nOh, what a lovely precious thing\\r\\nOh, when you're... yes, yes, when you're...\\r\\n\\nWhen you're young - yeah, thank you, Jesus! - gifted and black!\\r\\nOpen your heart, is all I need\\n\\nIn this whole world, you know\\n\\nThere's a millions of boys and girls\\n\\nWho are young, gifted and black\\n\\nWith their souls intact - and that's a fact!\\n\\n\\\"You are young, gifted and black,\\\" we must begin to tell our young\\n\\n\\\"There's a world waiting for you - Yours is the quest that's just begun\\\"\\n\\nWhen you feeling real low\\n\\nHere's a great truth that you should remember and know:\\n\\nThat you're young, gifted, and black!\\n\\nYou got your soul intact - oh, and that's a fact!\\n\\n\\n\\n(You're young, gifted, and black...)\\n\\nOh, it's a mighty sweet thing, yes, it is now\\n\\n(Young, gifted, and black...)\\n\\nOh, my sisters!\\n\\n(Young, gifted, and black...)\\n\\nYou're young and you're black, you got your soul intact\\n\\nYou got the future, don't you know it's a fact?\\n\\n(Young, gifted, and black...)\"}\n"
     ]
    }
   ],
   "source": [
    "for song in songs:\n",
    "    req = requests.get(f\"https://api.lyrics.ovh/v1/Aretha Franklin/Young Gifted and Black\")\n",
    "    print(req.text)"
   ]
  },
  {
   "cell_type": "code",
   "execution_count": null,
   "metadata": {},
   "outputs": [],
   "source": []
  }
 ],
 "metadata": {
  "kernelspec": {
   "display_name": "Python 3",
   "language": "python",
   "name": "python3"
  },
  "language_info": {
   "codemirror_mode": {
    "name": "ipython",
    "version": 3
   },
   "file_extension": ".py",
   "mimetype": "text/x-python",
   "name": "python",
   "nbconvert_exporter": "python",
   "pygments_lexer": "ipython3",
   "version": "3.6.9"
  }
 },
 "nbformat": 4,
 "nbformat_minor": 4
}
