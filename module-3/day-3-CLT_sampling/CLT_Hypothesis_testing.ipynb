{
 "cells": [
  {
   "cell_type": "markdown",
   "metadata": {},
   "source": [
    "__Agenda__\n",
    "\n",
    "- Difference between population and sample\n",
    "- How can we get a good sample?\n",
    "- Point estimators from sample\n",
    "- Sampling distribution, especially sampling distribution of the mean\n",
    "- Central Limit Theorem - statement and use of it.\n",
    "- Creating confidence intervals around sample mean using CLT\n",
    "- Recap\n",
    "\n",
    "\n",
    "# Sampling Distributions\n",
    "\n",
    "## Population vs Sample\n",
    "\n",
    "__population__ A population is the set of all elements of interest in a study. (Finite population and infinite population)\n",
    "\n",
    "__sample__ A sample is a subset of the population.\n",
    "\n",
    "### Scenario\n",
    "\n",
    "The mayor's office has hired Flatiron Data Science Immersive students to determine a way to fix traffic congestion. A good starting point is to determine out what proportion of the population of DC owns a car.\n",
    "\n",
    "In order for us to make any determinations about a population, we must first get information about it.\n",
    "\n",
    "Because it's impractical to ever usually get data about *everyone* in a population, we must take a sample.\n",
    "\n",
    "Our sample should be:\n",
    "\n",
    "* Randomly selected- every item should have an *equal* chance of being selected\n",
    "* Representative of our population\n",
    "\n",
    "![pop](./img/sample_pop.png)\n",
    "\n",
    "\n",
    "**Random sampling is not easy to do, let's look at an example:**\n",
    "\n",
    "Imagine you are trying to determine what proportion of DC metro area people own a car\n",
    "\n",
    "* Stand outside of Flatiron at 12 pm and ask random people until *n* responses\n",
    "\n",
    "\n",
    "* Go to a randomly assigned street corner and at a random time and ask *n* people if they own a car\n",
    "\n",
    "\n",
    "__Objective of Sampling__\n",
    "\n",
    "When we gather a sample, we are trying to minimize the bias of our sample while also minimizing our cost.\n",
    "\n",
    "\n",
    "## Point Estimates\n",
    "\n",
    "!! Very important observation!!: We can consider random sampling as an 'random experiment' and then when we calculate mean, variance, standard deviation, median etc. these are functions on the outcomes of this experiment. We have a name for such functions can you remember it?\n",
    "\n",
    "![imgsample](./img/sample_stats.png)\n",
    "\n",
    "### It's your turn :)\n",
    "\n",
    "[Download data](https://www.kaggle.com/ishaanv/ISLR-Auto)\n",
    "\n",
    "[UCI-repo](https://archive.ics.uci.edu/ml/datasets/auto+mpg)"
   ]
  },
  {
   "cell_type": "code",
   "execution_count": 1,
   "metadata": {},
   "outputs": [],
   "source": [
    "import pandas as pd \n",
    "\n",
    "import numpy as np"
   ]
  },
  {
   "cell_type": "markdown",
   "metadata": {},
   "source": [
    "Take two random samples of 30 cars from auto dataset and find both sampling mean and standard deviation for mpg\n",
    "\n"
   ]
  },
  {
   "cell_type": "code",
   "execution_count": 2,
   "metadata": {},
   "outputs": [],
   "source": [
    "import pickle"
   ]
  },
  {
   "cell_type": "markdown",
   "metadata": {},
   "source": [
    "We \"pickled\" two samples before and use these to work with"
   ]
  },
  {
   "cell_type": "code",
<<<<<<< HEAD
   "execution_count": 5,
=======
   "execution_count": 3,
>>>>>>> b204d8340b7f65f14dde69036476744e881deb25
   "metadata": {},
   "outputs": [],
   "source": [
    "pkl_obj = open('sample.pkl', 'rb')\n",
    "sample = pickle.load(pkl_obj)\n",
    "pkl_obj.close()"
   ]
  },
  {
   "cell_type": "code",
   "execution_count": 10,
   "metadata": {},
   "outputs": [
    {
     "data": {
      "text/plain": [
       "24.146666666666665"
      ]
     },
     "execution_count": 10,
     "metadata": {},
     "output_type": "execute_result"
    }
   ],
   "source": [
    "sample['mpg'].mean()"
   ]
  },
  {
   "cell_type": "markdown",
   "metadata": {},
   "source": [
    "Load the the second sample"
   ]
  },
  {
   "cell_type": "code",
<<<<<<< HEAD
   "execution_count": 15,
=======
   "execution_count": 4,
>>>>>>> b204d8340b7f65f14dde69036476744e881deb25
   "metadata": {},
   "outputs": [
    {
     "name": "stdout",
     "output_type": "stream",
     "text": [
      "9.922274952342587\n",
      "6.5616965846468025\n"
     ]
    }
   ],
   "source": [
    "pkl_obj = open('sample2.pkl', 'rb')\n",
    "\n",
    "sample2 = pickle.load(pkl_obj)\n",
    "pkl_obj.close()\n",
    "sample2['mpg'].mean()\n",
    "print(sample.mpg.std())\n",
    "print(sample2.mpg.std())"
   ]
  },
  {
   "cell_type": "code",
   "execution_count": 8,
   "metadata": {},
   "outputs": [
    {
     "data": {
      "text/html": [
       "<div>\n",
       "<style scoped>\n",
       "    .dataframe tbody tr th:only-of-type {\n",
       "        vertical-align: middle;\n",
       "    }\n",
       "\n",
       "    .dataframe tbody tr th {\n",
       "        vertical-align: top;\n",
       "    }\n",
       "\n",
       "    .dataframe thead th {\n",
       "        text-align: right;\n",
       "    }\n",
       "</style>\n",
       "<table border=\"1\" class=\"dataframe\">\n",
       "  <thead>\n",
       "    <tr style=\"text-align: right;\">\n",
       "      <th></th>\n",
       "      <th>mpg</th>\n",
       "      <th>cylinders</th>\n",
       "      <th>displacement</th>\n",
       "      <th>horsepower</th>\n",
       "      <th>weight</th>\n",
       "      <th>acceleration</th>\n",
       "      <th>model year</th>\n",
       "      <th>origin</th>\n",
       "      <th>car name</th>\n",
       "    </tr>\n",
       "  </thead>\n",
       "  <tbody>\n",
       "    <tr>\n",
       "      <th>12</th>\n",
       "      <td>15.0</td>\n",
       "      <td>8</td>\n",
       "      <td>400.0</td>\n",
       "      <td>150</td>\n",
       "      <td>3761</td>\n",
       "      <td>9.5</td>\n",
       "      <td>70</td>\n",
       "      <td>1</td>\n",
       "      <td>chevrolet monte carlo</td>\n",
       "    </tr>\n",
       "    <tr>\n",
       "      <th>195</th>\n",
       "      <td>29.0</td>\n",
       "      <td>4</td>\n",
       "      <td>90.0</td>\n",
       "      <td>70</td>\n",
       "      <td>1937</td>\n",
       "      <td>14.2</td>\n",
       "      <td>76</td>\n",
       "      <td>2</td>\n",
       "      <td>vw rabbit</td>\n",
       "    </tr>\n",
       "    <tr>\n",
       "      <th>287</th>\n",
       "      <td>16.9</td>\n",
       "      <td>8</td>\n",
       "      <td>350.0</td>\n",
       "      <td>155</td>\n",
       "      <td>4360</td>\n",
       "      <td>14.9</td>\n",
       "      <td>79</td>\n",
       "      <td>1</td>\n",
       "      <td>buick estate wagon (sw)</td>\n",
       "    </tr>\n",
       "    <tr>\n",
       "      <th>143</th>\n",
       "      <td>32.0</td>\n",
       "      <td>4</td>\n",
       "      <td>83.0</td>\n",
       "      <td>61</td>\n",
       "      <td>2003</td>\n",
       "      <td>19.0</td>\n",
       "      <td>74</td>\n",
       "      <td>3</td>\n",
       "      <td>datsun 710</td>\n",
       "    </tr>\n",
       "    <tr>\n",
       "      <th>383</th>\n",
       "      <td>22.0</td>\n",
       "      <td>6</td>\n",
       "      <td>232.0</td>\n",
       "      <td>112</td>\n",
       "      <td>2835</td>\n",
       "      <td>14.7</td>\n",
       "      <td>82</td>\n",
       "      <td>1</td>\n",
       "      <td>ford granada l</td>\n",
       "    </tr>\n",
       "  </tbody>\n",
       "</table>\n",
       "</div>"
      ],
      "text/plain": [
       "      mpg  cylinders  displacement  horsepower  weight  acceleration  \\\n",
       "12   15.0          8         400.0         150    3761           9.5   \n",
       "195  29.0          4          90.0          70    1937          14.2   \n",
       "287  16.9          8         350.0         155    4360          14.9   \n",
       "143  32.0          4          83.0          61    2003          19.0   \n",
       "383  22.0          6         232.0         112    2835          14.7   \n",
       "\n",
       "     model year  origin                 car name  \n",
       "12           70       1    chevrolet monte carlo  \n",
       "195          76       2                vw rabbit  \n",
       "287          79       1  buick estate wagon (sw)  \n",
       "143          74       3               datsun 710  \n",
       "383          82       1           ford granada l  "
      ]
     },
     "execution_count": 8,
     "metadata": {},
     "output_type": "execute_result"
    }
   ],
   "source": [
    "sample2.head()"
   ]
  },
  {
   "cell_type": "code",
   "execution_count": 15,
   "metadata": {},
   "outputs": [],
   "source": [
    "# %load -r 24-30 supplement.py\n",
    "x1_bar = sample.mpg.mean()\n",
    "\n",
    "x2_bar = sample2.mpg.mean()\n",
    "\n",
    "s1_bar = sample.mpg.std()\n",
    "\n",
    "s2_bar = sample2.mpg.std()"
   ]
  },
  {
   "cell_type": "markdown",
   "metadata": {},
   "source": [
    "Here let's print them"
   ]
  },
  {
   "cell_type": "code",
   "execution_count": 16,
   "metadata": {},
   "outputs": [
    {
     "name": "stdout",
     "output_type": "stream",
     "text": [
      "Sampling mean for the first sample: 24.146666666666665 \n",
      "        \n",
      "Sampling Standard Deviation for the first sample: 9.922274952342587\n",
      "\n",
      "Sampling mean for the second sample: 21.200000000000003 \n",
      "        \n",
      "Sampling Standard Deviation for the second sample: 6.561696584646803\n",
      "\n"
     ]
    }
   ],
   "source": [
    "print(\"\"\"Sampling mean for the first sample: {} \n",
    "        \\nSampling Standard Deviation for the first sample: {}\\n\"\"\".format(x1_bar, s1_bar))\n",
    "\n",
    "print(\"\"\"Sampling mean for the second sample: {} \n",
    "        \\nSampling Standard Deviation for the second sample: {}\\n\"\"\".format(x2_bar, s2_bar))"
   ]
  },
  {
   "cell_type": "markdown",
   "metadata": {},
   "source": [
    "Let's load the original data. In this case, we will consider this data as \"population\""
   ]
  },
  {
   "cell_type": "code",
<<<<<<< HEAD
   "execution_count": 18,
=======
   "execution_count": 19,
>>>>>>> b204d8340b7f65f14dde69036476744e881deb25
   "metadata": {},
   "outputs": [],
   "source": [
    "# %load -r 32-35 supplement.py\n",
    "auto = pd.read_csv('data/auto-mpg.csv')\n",
    "mu = auto.mpg.mean()\n",
<<<<<<< HEAD
    "\n",
    "sigma = auto.mpg.std()"
=======
    "sigma = auto.mpg.std()"
   ]
  },
  {
   "cell_type": "code",
   "execution_count": 22,
   "metadata": {},
   "outputs": [
    {
     "data": {
      "text/plain": [
       "(392, 9)"
      ]
     },
     "execution_count": 22,
     "metadata": {},
     "output_type": "execute_result"
    }
   ],
   "source": [
    "auto.shape"
>>>>>>> b204d8340b7f65f14dde69036476744e881deb25
   ]
  },
  {
   "cell_type": "markdown",
   "metadata": {},
   "source": [
    "Here print population parameters $\\mu$ and $\\sigma$"
   ]
  },
  {
   "cell_type": "code",
<<<<<<< HEAD
   "execution_count": 19,
=======
   "execution_count": 20,
>>>>>>> b204d8340b7f65f14dde69036476744e881deb25
   "metadata": {},
   "outputs": [
    {
     "name": "stdout",
     "output_type": "stream",
     "text": [
<<<<<<< HEAD
      "Population mean is 23.445918367346938 \n",
      "        \n",
      "Population standard deviation is 7.8050074865717995\n",
=======
      "Population mean is 23.44591836734694 \n",
      "        \n",
      "Population standard deviation is 7.805007486571799\n",
>>>>>>> b204d8340b7f65f14dde69036476744e881deb25
      "\n"
     ]
    }
   ],
   "source": [
    "print(\"\"\"Population mean is {} \n",
    "        \\nPopulation standard deviation is {}\\n\"\"\".format(mu, sigma))\n",
    "\n"
   ]
  },
  {
   "cell_type": "code",
   "execution_count": 24,
   "metadata": {},
   "outputs": [
    {
     "data": {
      "text/html": [
       "<div>\n",
       "<style scoped>\n",
       "    .dataframe tbody tr th:only-of-type {\n",
       "        vertical-align: middle;\n",
       "    }\n",
       "\n",
       "    .dataframe tbody tr th {\n",
       "        vertical-align: top;\n",
       "    }\n",
       "\n",
       "    .dataframe thead th {\n",
       "        text-align: right;\n",
       "    }\n",
       "</style>\n",
       "<table border=\"1\" class=\"dataframe\">\n",
       "  <thead>\n",
       "    <tr style=\"text-align: right;\">\n",
       "      <th></th>\n",
       "      <th>mpg</th>\n",
       "      <th>cylinders</th>\n",
       "      <th>displacement</th>\n",
       "      <th>horsepower</th>\n",
       "      <th>weight</th>\n",
       "      <th>acceleration</th>\n",
       "      <th>model year</th>\n",
       "      <th>origin</th>\n",
       "      <th>car name</th>\n",
       "    </tr>\n",
       "  </thead>\n",
       "  <tbody>\n",
       "    <tr>\n",
       "      <td>315</td>\n",
       "      <td>34.3</td>\n",
       "      <td>4</td>\n",
       "      <td>97.0</td>\n",
       "      <td>78</td>\n",
       "      <td>2188</td>\n",
       "      <td>15.8</td>\n",
       "      <td>80</td>\n",
       "      <td>2</td>\n",
       "      <td>audi 4000</td>\n",
       "    </tr>\n",
       "    <tr>\n",
       "      <td>45</td>\n",
       "      <td>22.0</td>\n",
       "      <td>4</td>\n",
       "      <td>140.0</td>\n",
       "      <td>72</td>\n",
       "      <td>2408</td>\n",
       "      <td>19.0</td>\n",
       "      <td>71</td>\n",
       "      <td>1</td>\n",
       "      <td>chevrolet vega (sw)</td>\n",
       "    </tr>\n",
       "    <tr>\n",
       "      <td>42</td>\n",
       "      <td>13.0</td>\n",
       "      <td>8</td>\n",
       "      <td>400.0</td>\n",
       "      <td>170</td>\n",
       "      <td>4746</td>\n",
       "      <td>12.0</td>\n",
       "      <td>71</td>\n",
       "      <td>1</td>\n",
       "      <td>ford country squire (sw)</td>\n",
       "    </tr>\n",
       "    <tr>\n",
       "      <td>253</td>\n",
       "      <td>25.1</td>\n",
       "      <td>4</td>\n",
       "      <td>140.0</td>\n",
       "      <td>88</td>\n",
       "      <td>2720</td>\n",
       "      <td>15.4</td>\n",
       "      <td>78</td>\n",
       "      <td>1</td>\n",
       "      <td>ford fairmont (man)</td>\n",
       "    </tr>\n",
       "    <tr>\n",
       "      <td>99</td>\n",
       "      <td>18.0</td>\n",
       "      <td>6</td>\n",
       "      <td>250.0</td>\n",
       "      <td>88</td>\n",
       "      <td>3021</td>\n",
       "      <td>16.5</td>\n",
       "      <td>73</td>\n",
       "      <td>1</td>\n",
       "      <td>ford maverick</td>\n",
       "    </tr>\n",
       "    <tr>\n",
       "      <td>225</td>\n",
       "      <td>19.0</td>\n",
       "      <td>6</td>\n",
       "      <td>225.0</td>\n",
       "      <td>100</td>\n",
       "      <td>3630</td>\n",
       "      <td>17.7</td>\n",
       "      <td>77</td>\n",
       "      <td>1</td>\n",
       "      <td>plymouth volare custom</td>\n",
       "    </tr>\n",
       "    <tr>\n",
       "      <td>34</td>\n",
       "      <td>17.0</td>\n",
       "      <td>6</td>\n",
       "      <td>250.0</td>\n",
       "      <td>100</td>\n",
       "      <td>3329</td>\n",
       "      <td>15.5</td>\n",
       "      <td>71</td>\n",
       "      <td>1</td>\n",
       "      <td>chevrolet chevelle malibu</td>\n",
       "    </tr>\n",
       "    <tr>\n",
       "      <td>341</td>\n",
       "      <td>35.1</td>\n",
       "      <td>4</td>\n",
       "      <td>81.0</td>\n",
       "      <td>60</td>\n",
       "      <td>1760</td>\n",
       "      <td>16.1</td>\n",
       "      <td>81</td>\n",
       "      <td>3</td>\n",
       "      <td>honda civic 1300</td>\n",
       "    </tr>\n",
       "    <tr>\n",
       "      <td>246</td>\n",
       "      <td>36.1</td>\n",
       "      <td>4</td>\n",
       "      <td>91.0</td>\n",
       "      <td>60</td>\n",
       "      <td>1800</td>\n",
       "      <td>16.4</td>\n",
       "      <td>78</td>\n",
       "      <td>3</td>\n",
       "      <td>honda civic cvcc</td>\n",
       "    </tr>\n",
       "    <tr>\n",
       "      <td>310</td>\n",
       "      <td>37.2</td>\n",
       "      <td>4</td>\n",
       "      <td>86.0</td>\n",
       "      <td>65</td>\n",
       "      <td>2019</td>\n",
       "      <td>16.4</td>\n",
       "      <td>80</td>\n",
       "      <td>3</td>\n",
       "      <td>datsun 310</td>\n",
       "    </tr>\n",
       "    <tr>\n",
       "      <td>270</td>\n",
       "      <td>23.8</td>\n",
       "      <td>4</td>\n",
       "      <td>151.0</td>\n",
       "      <td>85</td>\n",
       "      <td>2855</td>\n",
       "      <td>17.6</td>\n",
       "      <td>78</td>\n",
       "      <td>1</td>\n",
       "      <td>oldsmobile starfire sx</td>\n",
       "    </tr>\n",
       "    <tr>\n",
       "      <td>152</td>\n",
       "      <td>15.0</td>\n",
       "      <td>6</td>\n",
       "      <td>250.0</td>\n",
       "      <td>72</td>\n",
       "      <td>3432</td>\n",
       "      <td>21.0</td>\n",
       "      <td>75</td>\n",
       "      <td>1</td>\n",
       "      <td>mercury monarch</td>\n",
       "    </tr>\n",
       "    <tr>\n",
       "      <td>255</td>\n",
       "      <td>19.4</td>\n",
       "      <td>6</td>\n",
       "      <td>232.0</td>\n",
       "      <td>90</td>\n",
       "      <td>3210</td>\n",
       "      <td>17.2</td>\n",
       "      <td>78</td>\n",
       "      <td>1</td>\n",
       "      <td>amc concord</td>\n",
       "    </tr>\n",
       "    <tr>\n",
       "      <td>183</td>\n",
       "      <td>26.0</td>\n",
       "      <td>4</td>\n",
       "      <td>98.0</td>\n",
       "      <td>79</td>\n",
       "      <td>2255</td>\n",
       "      <td>17.7</td>\n",
       "      <td>76</td>\n",
       "      <td>1</td>\n",
       "      <td>dodge colt</td>\n",
       "    </tr>\n",
       "    <tr>\n",
       "      <td>217</td>\n",
       "      <td>25.5</td>\n",
       "      <td>4</td>\n",
       "      <td>122.0</td>\n",
       "      <td>96</td>\n",
       "      <td>2300</td>\n",
       "      <td>15.5</td>\n",
       "      <td>77</td>\n",
       "      <td>1</td>\n",
       "      <td>plymouth arrow gs</td>\n",
       "    </tr>\n",
       "    <tr>\n",
       "      <td>280</td>\n",
       "      <td>22.3</td>\n",
       "      <td>4</td>\n",
       "      <td>140.0</td>\n",
       "      <td>88</td>\n",
       "      <td>2890</td>\n",
       "      <td>17.3</td>\n",
       "      <td>79</td>\n",
       "      <td>1</td>\n",
       "      <td>ford fairmont 4</td>\n",
       "    </tr>\n",
       "    <tr>\n",
       "      <td>133</td>\n",
       "      <td>18.0</td>\n",
       "      <td>6</td>\n",
       "      <td>225.0</td>\n",
       "      <td>105</td>\n",
       "      <td>3613</td>\n",
       "      <td>16.5</td>\n",
       "      <td>74</td>\n",
       "      <td>1</td>\n",
       "      <td>plymouth satellite sebring</td>\n",
       "    </tr>\n",
       "    <tr>\n",
       "      <td>234</td>\n",
       "      <td>25.5</td>\n",
       "      <td>4</td>\n",
       "      <td>140.0</td>\n",
       "      <td>89</td>\n",
       "      <td>2755</td>\n",
       "      <td>15.8</td>\n",
       "      <td>77</td>\n",
       "      <td>1</td>\n",
       "      <td>ford mustang ii 2+2</td>\n",
       "    </tr>\n",
       "    <tr>\n",
       "      <td>202</td>\n",
       "      <td>32.0</td>\n",
       "      <td>4</td>\n",
       "      <td>85.0</td>\n",
       "      <td>70</td>\n",
       "      <td>1990</td>\n",
       "      <td>17.0</td>\n",
       "      <td>76</td>\n",
       "      <td>3</td>\n",
       "      <td>datsun b-210</td>\n",
       "    </tr>\n",
       "    <tr>\n",
       "      <td>5</td>\n",
       "      <td>15.0</td>\n",
       "      <td>8</td>\n",
       "      <td>429.0</td>\n",
       "      <td>198</td>\n",
       "      <td>4341</td>\n",
       "      <td>10.0</td>\n",
       "      <td>70</td>\n",
       "      <td>1</td>\n",
       "      <td>ford galaxie 500</td>\n",
       "    </tr>\n",
       "    <tr>\n",
       "      <td>300</td>\n",
       "      <td>34.5</td>\n",
       "      <td>4</td>\n",
       "      <td>105.0</td>\n",
       "      <td>70</td>\n",
       "      <td>2150</td>\n",
       "      <td>14.9</td>\n",
       "      <td>79</td>\n",
       "      <td>1</td>\n",
       "      <td>plymouth horizon tc3</td>\n",
       "    </tr>\n",
       "    <tr>\n",
       "      <td>210</td>\n",
       "      <td>16.5</td>\n",
       "      <td>8</td>\n",
       "      <td>350.0</td>\n",
       "      <td>180</td>\n",
       "      <td>4380</td>\n",
       "      <td>12.1</td>\n",
       "      <td>76</td>\n",
       "      <td>1</td>\n",
       "      <td>cadillac seville</td>\n",
       "    </tr>\n",
       "    <tr>\n",
       "      <td>387</td>\n",
       "      <td>27.0</td>\n",
       "      <td>4</td>\n",
       "      <td>140.0</td>\n",
       "      <td>86</td>\n",
       "      <td>2790</td>\n",
       "      <td>15.6</td>\n",
       "      <td>82</td>\n",
       "      <td>1</td>\n",
       "      <td>ford mustang gl</td>\n",
       "    </tr>\n",
       "    <tr>\n",
       "      <td>237</td>\n",
       "      <td>30.0</td>\n",
       "      <td>4</td>\n",
       "      <td>97.0</td>\n",
       "      <td>67</td>\n",
       "      <td>1985</td>\n",
       "      <td>16.4</td>\n",
       "      <td>77</td>\n",
       "      <td>3</td>\n",
       "      <td>subaru dl</td>\n",
       "    </tr>\n",
       "    <tr>\n",
       "      <td>295</td>\n",
       "      <td>25.4</td>\n",
       "      <td>5</td>\n",
       "      <td>183.0</td>\n",
       "      <td>77</td>\n",
       "      <td>3530</td>\n",
       "      <td>20.1</td>\n",
       "      <td>79</td>\n",
       "      <td>2</td>\n",
       "      <td>mercedes benz 300d</td>\n",
       "    </tr>\n",
       "    <tr>\n",
       "      <td>263</td>\n",
       "      <td>17.5</td>\n",
       "      <td>8</td>\n",
       "      <td>318.0</td>\n",
       "      <td>140</td>\n",
       "      <td>4080</td>\n",
       "      <td>13.7</td>\n",
       "      <td>78</td>\n",
       "      <td>1</td>\n",
       "      <td>dodge magnum xe</td>\n",
       "    </tr>\n",
       "    <tr>\n",
       "      <td>223</td>\n",
       "      <td>17.5</td>\n",
       "      <td>6</td>\n",
       "      <td>250.0</td>\n",
       "      <td>110</td>\n",
       "      <td>3520</td>\n",
       "      <td>16.4</td>\n",
       "      <td>77</td>\n",
       "      <td>1</td>\n",
       "      <td>chevrolet concours</td>\n",
       "    </tr>\n",
       "    <tr>\n",
       "      <td>282</td>\n",
       "      <td>20.6</td>\n",
       "      <td>6</td>\n",
       "      <td>225.0</td>\n",
       "      <td>110</td>\n",
       "      <td>3360</td>\n",
       "      <td>16.6</td>\n",
       "      <td>79</td>\n",
       "      <td>1</td>\n",
       "      <td>dodge aspen 6</td>\n",
       "    </tr>\n",
       "    <tr>\n",
       "      <td>83</td>\n",
       "      <td>27.0</td>\n",
       "      <td>4</td>\n",
       "      <td>97.0</td>\n",
       "      <td>88</td>\n",
       "      <td>2100</td>\n",
       "      <td>16.5</td>\n",
       "      <td>72</td>\n",
       "      <td>3</td>\n",
       "      <td>toyota corolla 1600 (sw)</td>\n",
       "    </tr>\n",
       "    <tr>\n",
       "      <td>156</td>\n",
       "      <td>16.0</td>\n",
       "      <td>8</td>\n",
       "      <td>318.0</td>\n",
       "      <td>150</td>\n",
       "      <td>4498</td>\n",
       "      <td>14.5</td>\n",
       "      <td>75</td>\n",
       "      <td>1</td>\n",
       "      <td>plymouth grand fury</td>\n",
       "    </tr>\n",
       "  </tbody>\n",
       "</table>\n",
       "</div>"
      ],
      "text/plain": [
       "      mpg  cylinders  displacement  horsepower  weight  acceleration  \\\n",
       "315  34.3          4          97.0          78    2188          15.8   \n",
       "45   22.0          4         140.0          72    2408          19.0   \n",
       "42   13.0          8         400.0         170    4746          12.0   \n",
       "253  25.1          4         140.0          88    2720          15.4   \n",
       "99   18.0          6         250.0          88    3021          16.5   \n",
       "225  19.0          6         225.0         100    3630          17.7   \n",
       "34   17.0          6         250.0         100    3329          15.5   \n",
       "341  35.1          4          81.0          60    1760          16.1   \n",
       "246  36.1          4          91.0          60    1800          16.4   \n",
       "310  37.2          4          86.0          65    2019          16.4   \n",
       "270  23.8          4         151.0          85    2855          17.6   \n",
       "152  15.0          6         250.0          72    3432          21.0   \n",
       "255  19.4          6         232.0          90    3210          17.2   \n",
       "183  26.0          4          98.0          79    2255          17.7   \n",
       "217  25.5          4         122.0          96    2300          15.5   \n",
       "280  22.3          4         140.0          88    2890          17.3   \n",
       "133  18.0          6         225.0         105    3613          16.5   \n",
       "234  25.5          4         140.0          89    2755          15.8   \n",
       "202  32.0          4          85.0          70    1990          17.0   \n",
       "5    15.0          8         429.0         198    4341          10.0   \n",
       "300  34.5          4         105.0          70    2150          14.9   \n",
       "210  16.5          8         350.0         180    4380          12.1   \n",
       "387  27.0          4         140.0          86    2790          15.6   \n",
       "237  30.0          4          97.0          67    1985          16.4   \n",
       "295  25.4          5         183.0          77    3530          20.1   \n",
       "263  17.5          8         318.0         140    4080          13.7   \n",
       "223  17.5          6         250.0         110    3520          16.4   \n",
       "282  20.6          6         225.0         110    3360          16.6   \n",
       "83   27.0          4          97.0          88    2100          16.5   \n",
       "156  16.0          8         318.0         150    4498          14.5   \n",
       "\n",
       "     model year  origin                    car name  \n",
       "315          80       2                   audi 4000  \n",
       "45           71       1         chevrolet vega (sw)  \n",
       "42           71       1    ford country squire (sw)  \n",
       "253          78       1         ford fairmont (man)  \n",
       "99           73       1               ford maverick  \n",
       "225          77       1      plymouth volare custom  \n",
       "34           71       1   chevrolet chevelle malibu  \n",
       "341          81       3            honda civic 1300  \n",
       "246          78       3            honda civic cvcc  \n",
       "310          80       3                  datsun 310  \n",
       "270          78       1      oldsmobile starfire sx  \n",
       "152          75       1             mercury monarch  \n",
       "255          78       1                 amc concord  \n",
       "183          76       1                  dodge colt  \n",
       "217          77       1           plymouth arrow gs  \n",
       "280          79       1             ford fairmont 4  \n",
       "133          74       1  plymouth satellite sebring  \n",
       "234          77       1         ford mustang ii 2+2  \n",
       "202          76       3                datsun b-210  \n",
       "5            70       1            ford galaxie 500  \n",
       "300          79       1        plymouth horizon tc3  \n",
       "210          76       1            cadillac seville  \n",
       "387          82       1             ford mustang gl  \n",
       "237          77       3                   subaru dl  \n",
       "295          79       2          mercedes benz 300d  \n",
       "263          78       1             dodge magnum xe  \n",
       "223          77       1          chevrolet concours  \n",
       "282          79       1               dodge aspen 6  \n",
       "83           72       3    toyota corolla 1600 (sw)  \n",
       "156          75       1         plymouth grand fury  "
      ]
     },
     "execution_count": 24,
     "metadata": {},
     "output_type": "execute_result"
    }
   ],
   "source": [
    "auto.sample(n = 30) "
   ]
  },
  {
   "cell_type": "code",
   "execution_count": 44,
   "metadata": {},
   "outputs": [
    {
     "data": {
      "text/plain": [
       "[23.32266666666667, 23.222333333333335, 23.765333333333334, 23.445666666666664]"
      ]
     },
     "execution_count": 44,
     "metadata": {},
     "output_type": "execute_result"
    }
   ],
   "source": [
    "thousand_means = [auto.sample(n = 300).mpg.mean() for i in range(1000)]\n",
    "\n",
    "list(thousand_means[0:4] )"
   ]
  },
  {
   "cell_type": "code",
   "execution_count": 45,
   "metadata": {},
   "outputs": [
    {
     "data": {
      "text/plain": [
       "23.437651666666664"
      ]
     },
     "execution_count": 45,
     "metadata": {},
     "output_type": "execute_result"
    }
   ],
   "source": [
    "np.array(thousand_means).mean()"
   ]
  },
  {
   "cell_type": "code",
   "execution_count": 55,
   "metadata": {},
   "outputs": [
    {
     "data": {
      "text/plain": [
       "<matplotlib.lines.Line2D at 0x1200daf98>"
      ]
     },
     "execution_count": 55,
     "metadata": {},
     "output_type": "execute_result"
    },
    {
     "data": {
      "image/png": "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\n",
      "text/plain": [
       "<Figure size 432x288 with 1 Axes>"
      ]
     },
     "metadata": {
      "needs_background": "light"
     },
     "output_type": "display_data"
    }
   ],
   "source": [
    "plt.hist(thousand_means, bins = 10, color = 'darkblue')\n",
    "plt.axvline(np.array(thousand_means).mean(), color='pink', linestyle='solid', linewidth=1, label = 'pop mean')"
   ]
  },
  {
   "cell_type": "markdown",
   "metadata": {},
   "source": [
    "The difference between the sample mean and the population mean is known as the **Sampling Error**.  \n",
    "\n",
    ">When using the sample mean to estimate the population mean, some possible error will be involved since random sample means are also random.\n",
    "\n",
    "### It's your turn again :)\n",
    "\n",
    "Repeat the sampling process you did above 1000 times and plot the result."
   ]
  },
  {
   "cell_type": "code",
<<<<<<< HEAD
   "execution_count": 32,
=======
   "execution_count": 30,
>>>>>>> b204d8340b7f65f14dde69036476744e881deb25
   "metadata": {},
   "outputs": [],
   "source": [
    "import matplotlib.pyplot as plt\n",
    "plt.style.use('fivethirtyeight')\n",
    "\n",
    "%matplotlib inline"
   ]
  },
  {
   "cell_type": "code",
   "execution_count": 23,
   "metadata": {},
   "outputs": [],
   "source": [
    "sample_means = []\n",
    "\n",
    "\n",
    "for i in range(1000):\n",
    "    mean = auto.sample(n=30).mpg.mean()\n",
    "    sample_means.append(mean)"
   ]
  },
  {
   "cell_type": "code",
   "execution_count": 27,
   "metadata": {},
   "outputs": [],
   "source": [
    "sample_means2 = [auto.sample(n=30).mpg.mean() for i in range(1000)]"
   ]
  },
  {
   "cell_type": "code",
   "execution_count": 28,
   "metadata": {},
   "outputs": [
    {
     "data": {
      "text/plain": [
       "1000"
      ]
     },
     "execution_count": 28,
     "metadata": {},
     "output_type": "execute_result"
    }
   ],
   "source": [
    "len(sample_means2)"
   ]
  },
  {
   "cell_type": "code",
   "execution_count": null,
   "metadata": {},
   "outputs": [],
   "source": []
  },
  {
   "cell_type": "code",
   "execution_count": 32,
   "metadata": {},
   "outputs": [],
   "source": [
    "import matplotlib.pyplot as plt\n",
    "plt.style.use('fivethirtyeight')\n",
    "\n",
    "%matplotlib inline"
   ]
  },
  {
   "cell_type": "code",
   "execution_count": 34,
   "metadata": {},
   "outputs": [
    {
     "data": {
      "text/plain": [
       "(array([  4.,  18.,  64., 122., 189., 220., 190., 112.,  66.,  15.]),\n",
       " array([19.25666667, 20.01666667, 20.77666667, 21.53666667, 22.29666667,\n",
       "        23.05666667, 23.81666667, 24.57666667, 25.33666667, 26.09666667,\n",
       "        26.85666667]),\n",
       " <a list of 10 Patch objects>)"
      ]
     },
     "execution_count": 34,
     "metadata": {},
     "output_type": "execute_result"
    },
    {
     "data": {
      "image/png": "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\n",
      "text/plain": [
       "<Figure size 432x288 with 1 Axes>"
      ]
     },
     "metadata": {
      "needs_background": "light"
     },
     "output_type": "display_data"
    }
   ],
   "source": [
    "plt.hist(sample_means)"
   ]
  },
  {
   "cell_type": "code",
   "execution_count": 38,
   "metadata": {},
   "outputs": [
    {
     "data": {
      "image/png": "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\n",
      "text/plain": [
       "<Figure size 432x288 with 1 Axes>"
      ]
     },
     "metadata": {
      "needs_background": "light"
     },
     "output_type": "display_data"
    }
   ],
   "source": [
    "# %load -r 9-22 supplement.py\n",
    "# taking repeating samples from auto dataset\n",
    "thousand_rand_samp = [auto.sample(n = 2).mpg.mean() for i in range(1000)]\n",
    "\n",
    "bars = plt.hist(thousand_rand_samp)\n",
    "\n",
    "plt.vlines(x = mu, ymin= 0,\n",
    "           ymax = bars[0].max() +1,\n",
    "           color = 'r', label = 'pop mean')\n",
    "plt.xticks(range(17,29))\n",
    "plt.xlabel('sample_means')\n",
    "plt.ylabel('frequencies of sample means')\n",
    "\n",
    "plt.legend()\n",
    "plt.show()"
   ]
  },
  {
   "cell_type": "code",
   "execution_count": 42,
   "metadata": {},
   "outputs": [
    {
     "data": {
      "image/png": "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\n",
      "text/plain": [
       "<Figure size 432x288 with 1 Axes>"
      ]
     },
     "metadata": {
      "needs_background": "light"
     },
     "output_type": "display_data"
    }
   ],
   "source": [
    "thousand_rand_samp = [auto.sample(n = 30).mpg.mean() for i in range(1000)]\n",
    "\n",
    "bars = plt.hist(thousand_rand_samp)\n",
    "\n",
    "plt.vlines(x = mu, ymin= 0,\n",
    "           ymax = bars[0].max() +1,\n",
    "           color = 'r', label = 'pop mean')\n",
    "plt.xticks(range(17,29))\n",
    "plt.xlabel('sample_means')\n",
    "plt.ylabel('frequencies of sample means')\n",
    "\n",
    "plt.legend()\n",
    "plt.show()"
   ]
  },
  {
   "cell_type": "code",
   "execution_count": 41,
   "metadata": {},
   "outputs": [
    {
     "data": {
      "text/plain": [
       "1.424992887297358"
      ]
     },
     "execution_count": 41,
     "metadata": {},
     "output_type": "execute_result"
    }
   ],
   "source": [
    "sigma = auto.mpg.std()\n",
    "\n",
    "\n",
    "standard_error = sigma/ (np.sqrt(30))\n",
    "\n",
    "standard_error"
   ]
  },
  {
   "cell_type": "code",
   "execution_count": 43,
   "metadata": {},
   "outputs": [],
   "source": [
    "confidence_interval_lower = sample.mpg.mean() - 2*standard_error\n",
    "\n",
    "confidence_interval_upper = sample.mpg.mean() + 2*standard_error"
   ]
  },
  {
   "cell_type": "code",
   "execution_count": 44,
   "metadata": {},
   "outputs": [
    {
     "data": {
      "text/plain": [
       "21.296680892071947"
      ]
     },
     "execution_count": 44,
     "metadata": {},
     "output_type": "execute_result"
    }
   ],
   "source": [
    "confidence_interval_lower"
   ]
  },
  {
   "cell_type": "code",
   "execution_count": 45,
   "metadata": {},
   "outputs": [
    {
     "data": {
      "text/plain": [
       "26.996652441261382"
      ]
     },
     "execution_count": 45,
     "metadata": {},
     "output_type": "execute_result"
    }
   ],
   "source": [
    "confidence_interval_upper"
   ]
  },
  {
   "cell_type": "code",
   "execution_count": 47,
   "metadata": {},
   "outputs": [],
   "source": [
    "confidence_interval_lower_2 = sample2.mpg.mean() - 2*standard_error\n",
    "\n",
    "confidence_interval_upper_2 = sample2.mpg.mean() + 2*standard_error"
   ]
  },
  {
   "cell_type": "code",
   "execution_count": 51,
   "metadata": {},
   "outputs": [],
   "source": [
    "sample3 = auto.sample(n=30)\n",
    "\n",
    "confidence_interval_lower_3 = sample3.mpg.mean() - 2*standard_error\n",
    "\n",
    "confidence_interval_upper_3 = sample3.mpg.mean() + 2*standard_error"
   ]
  },
  {
   "cell_type": "code",
   "execution_count": 52,
   "metadata": {},
   "outputs": [
    {
     "data": {
      "text/plain": [
       "19.32001422540528"
      ]
     },
     "execution_count": 52,
     "metadata": {},
     "output_type": "execute_result"
    }
   ],
   "source": [
    "confidence_interval_lower_3"
   ]
  },
  {
   "cell_type": "code",
   "execution_count": 53,
   "metadata": {},
   "outputs": [
    {
     "data": {
      "text/plain": [
       "25.019985774594716"
      ]
     },
     "execution_count": 53,
     "metadata": {},
     "output_type": "execute_result"
    }
   ],
   "source": [
    "confidence_interval_upper_3"
   ]
  },
  {
   "cell_type": "code",
   "execution_count": 46,
   "metadata": {},
   "outputs": [
    {
     "data": {
      "text/plain": [
       "23.44591836734694"
      ]
     },
     "execution_count": 46,
     "metadata": {},
     "output_type": "execute_result"
    }
   ],
   "source": [
    "auto.mpg.mean()"
   ]
  },
  {
   "cell_type": "markdown",
   "metadata": {},
   "source": [
    "# Central Limit Theorem\n",
    "\n",
    "The Central Limit Theorem states: \n",
    ">When you add **a large number** of independent random variables, irrespective of the original distribution of these variables, **their sampling mean distribution tends towards a normal distribution** with mean equals to the mean of the original population and the standard deviation equals to $\\frac{\\sigma}{\\sqrt{n}}$.\n",
    "\n",
    "\n",
    "\n",
    "\n",
    "\n",
    "The standard error of the mean is the standard deviation of the sampling distribution.\n",
    "The issue is that a sample is not an exact replica of the population. We need to account for the fact that in order to make our estimate of the $\\mu$ value possible. Let's break it down:\n",
    "\n",
    "## Standard Error\n",
    "\n",
    "$$\\sigma _{\\bar{X}} = \\frac{\\sigma }{\\sqrt{n}}$$\n",
    "\n",
    "* $ \\sigma _{x}$ = standard error of $\\bar{x} $\n",
    "* $ \\sigma $ = standard deviation of population\n",
    "\n",
    "\n",
    "**What if we do not know the population sigma?**<br>\n",
    "If we do not know the population standard deviation, we can approximate for it by used the sample standard deviation.\n",
    "\n",
    "$\\sigma _{x} ≈ \\frac{s}{\\sqrt{n}}$\n",
    "\n",
    "* s = sample standard deviation\n",
    "\n",
    "But in this case, distribution shape is not 'normal' anymore. In this case the shape will be call 'T-distribution'. We will study this later in more details.\n",
    "\n",
    "\n",
    "**Sample size impact on standard error of mean**<br>\n",
    "\n",
    "Q: How should sample size influence standard error of the mean?\n",
    "\n",
    "\n",
    "![error](./img/diminishing_error.png)\n",
    "Important implication: The Standard Error of the mean remains the same as long as the population standard deviation is known and sample size remains the same.\n",
    "\n",
    "\n",
    "__Note-1__ In the case of finite sampling, we need to adjust the formula for standard error:\n",
    "\n",
    "<img src=\"img/standard_deviation_of_x_bar.png\" width=\"650\">\n",
    "\n",
    "\n",
    "__Note-2__ Note that in CLT the shape of initial distribution is not important! With enough sample size we can always achieve a distribution very close to normal one.\n",
    "\n",
    "<img src=\"img/clt_with_different.png\" width=\"650\">\n",
    "\n",
    "\n",
    "## Interval Estimation - Confidence Intervals\n",
    "\n",
    "Q: Let's assume that we have a sample of size=49 and we know the standard deviation of the population is $\\sigma = 5$. If we know that sampling mean is $\\bar{x} = 20$. What might be a good estimate for the population mean if we also know that the population mean is bigger than 20?\n",
    "\n",
    "Hint: What do we mean by 'a good estimate'?"
   ]
  },
  {
   "cell_type": "markdown",
   "metadata": {},
   "source": [
    "[Z-scores](https://www.mathsisfun.com/data/standard-normal-distribution-table.html)\n",
    "\n",
    "<img src=\"img/interval_estimation.png\" width=\"650\">"
   ]
  },
  {
   "cell_type": "code",
<<<<<<< HEAD
   "execution_count": 56,
=======
   "execution_count": 54,
   "metadata": {},
   "outputs": [],
   "source": [
    "import scipy.stats as stats\n"
   ]
  },
  {
   "cell_type": "code",
   "execution_count": 61,
   "metadata": {},
   "outputs": [
    {
     "data": {
      "text/plain": [
       "1.0364333894937898"
      ]
     },
     "execution_count": 61,
     "metadata": {},
     "output_type": "execute_result"
    }
   ],
   "source": [
    "stats.norm.ppf(0.85)"
   ]
  },
  {
   "cell_type": "code",
   "execution_count": null,
>>>>>>> b204d8340b7f65f14dde69036476744e881deb25
   "metadata": {},
   "outputs": [
    {
     "name": "stdout",
     "output_type": "stream",
     "text": [
      "1.959963984540054\n"
     ]
    },
    {
     "data": {
      "image/png": "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\n",
      "text/plain": [
       "<Figure size 432x288 with 1 Axes>"
      ]
     },
     "metadata": {
      "needs_background": "light"
     },
     "output_type": "display_data"
    }
   ],
   "source": [
    "import matplotlib.pyplot as plt\n",
    "import numpy as np\n",
    "import scipy.stats as stats\n",
    "import math\n",
    "%matplotlib inline\n",
    "\n",
    "\n",
    "#suppose population mu is 21\n",
    "mu = 21\n",
    "# sample mean gives us a point estimator\n",
    "point_estimator = 20\n",
    "\n",
    "# we know population variance is 49\n",
    "std_error = 5/(np.sqrt(49))\n",
    "\n",
    "\n",
    "# how much confidence do we require\n",
    "confidence = 0.95\n",
    "\n",
    "# alpha \n",
    "alpha = 1- confidence\n",
    "\n",
    "# due to symmetry we divided alpha by 2\n",
    "# note that to find z_alpha_over_2 we used \n",
    "# standard normal distribution\n",
    "\n",
    "z_alpha_over_2 = np.abs(stats.norm.ppf(alpha/2))\n",
    "\n",
    "print(z_alpha_over_2)\n",
    "\n",
    "\n",
    "# upper bound gives us a value so that\n",
    "# 2*(the area between point_estimator - upper_bound) = confidence\n",
    "\n",
    "upper_bound = point_estimator + z_alpha_over_2* std_error\n",
    "\n",
    "# now let's plot these\n",
    "\n",
    "# a normal distribution with mean=mu and std=sigma\n",
    "x = np.linspace(mu - 4*std_error, mu + 4*std_error, 100)\n",
    "plt.plot(x, stats.norm.pdf(x, mu, std_error))\n",
    "\n",
    "# a vertical line to mark point estimator\n",
    "plt.vlines(point_estimator, ymin=0,\n",
    "           ymax = stats.norm.pdf(point_estimator, mu, std_error))\n",
    "\n",
    "# a vertical line for population mu\n",
    "plt.vlines(mu, ymin=0,\n",
    "           ymax = stats.norm.pdf(mu, mu, std_error),\n",
    "          color = 'g')\n",
    "\n",
    "# a vertical line for upper bound\n",
    "plt.vlines(upper_bound, ymin=0,\n",
    "           ymax = stats.norm.pdf(upper_bound, \n",
    "                                 mu, std_error))\n",
    "\n",
    "\n",
    "# fill the area between upper_bound and point_estimator\n",
    "plt.fill_between(x= np.linspace(point_estimator, upper_bound, 100), \n",
    "                 y1= stats.norm.pdf(np.linspace(point_estimator,\n",
    "                                                upper_bound, 100), mu, std_error) ,\n",
    "                 facecolor='blue',\n",
    "                 alpha=0.35, \n",
    "                 label= 'btwn point estimator and\\n upper bound')\n",
    "\n",
    "# fill the area between point estimator and the left of it\n",
    "plt.fill_between(x= np.linspace(mu - 4*std_error, point_estimator, 100), \n",
    "                 y1= stats.norm.pdf(np.linspace(mu - 4*std_error, point_estimator,100), mu, std_error) ,\n",
    "                 facecolor='red',\n",
    "                 alpha=0.35, \n",
    "                 label= 'red area %.3f'%(stats.norm.cdf(point_estimator, mu, std_error)))\n",
    "\n",
    "plt.legend(loc = 'upper right')\n",
    "plt.show()"
   ]
  },
  {
   "cell_type": "markdown",
   "metadata": {},
   "source": [
    "\n"
   ]
  },
  {
   "cell_type": "markdown",
   "metadata": {},
   "source": [
    "# Hypothesis Testing \n",
    "\n",
    "## The Analytical Question \n",
    "\n",
    "A data scientist wants to examine if there is an effect on IQ scores when using tutors. To analyze this, she conducts IQ tests on a sample of 40 students, and wants to compare her students' IQ to the general population IQ. The way an IQ score is structured, we know that a standardized IQ test has a mean of 100, and a standard deviation of 16. When she tests her group of students, however, she gets an average IQ of 103. Based on this finding, does tutoring make a difference?\n",
    "\n",
    "## Step 1: State Your Hypotheses\n",
    "\n",
    "### The Alternative Hypothesis ($H_a$)\n",
    "\n",
    "The alternative hypothesis always reflects the idea or theory that needs to be tested. For this problem, you want to test if the tutoring has resulted in a significant increase in student IQ. So, you would write it down as:\n",
    "\n",
    "> The sample mean is **significantly** bigger than the population mean\n",
    "\n",
    "Again, significance is key here. If we denote sample mean as $\\bar{x}$, and population mean as mu ($\\mu$), you can write the alternative hypothesis as:\n",
    "\n",
    "$$\\large H_a\\text{:   }\\mu < \\bar{x}$$\n",
    "\n",
    "The alternative hypothesis here is that $\\mu$ is less than $M$. In other situations, you could check for both possibilities of $\\mu$ being smaller OR bigger than by checking  $\\mu \\neq M$. \n",
    "\n",
    "Maybe the tutoring results as a lower IQ... Who knows!\n",
    "\n",
    "For now, you'll just check for the **significant increase**, for now, to keep the process simple.\n",
    "\n",
    "### The Null Hypothesis ($H_0$)\n",
    "\n",
    "For a one-sample z-test, you define your null hypothesis as there being **no significant difference** between specified sample and population. This means that under the null hypothesis, you assume that any observed (generally small) difference may be present due to sampling or experimental error. Considering this, for this problem, you can define a null hypothesis ($H_0$) as:\n",
    "\n",
    "> There is **no significant difference** between the sample mean and population mean \n",
    "\n",
    "Remember the emphasis is on a _significant_ difference, rather than just any difference as a natural result of taking samples.\n",
    "\n",
    "Denoting the sample mean as $M$, and the population mean as mu ($\\mu$), you can write the null hypothesis as:\n",
    "\n",
    "$$\\large H_0\\text{:   }\\mu \\geq \\bar{x}$$\n",
    "\n",
    "\n",
    "## Step 2: Specify a Significance Level (alpha)\n",
    "\n",
    "Now that your hypotheses are in place, you have to decide on your significance level alpha ($\\alpha$) as a cut-off value to define whether you can reject your null hypothesis or not.\n",
    "\n",
    "As discussed previously, often, $\\alpha$ is set to 0.05, which also has as a side-effect that there is a 5 percent chance that you will reject the null hypothesis when it is true.\n",
    "Later, you'll see that using alpha, you'll formulate your test result as: \"with a confidence level of 95%, we can state that...\". For a z-distribution, this can be shown as below:\n",
    "\n",
    "<img src=\"img/hypothesis_test.png\" width=670>\n",
    "\n",
    "\n",
    "If you test both sides of the distribution ($\\mu \\neq \\bar{x}$, when $\\mu$ can either be smaller OR bigger), you need to perform a 2-tail test to see if tutoring lowers OR highers the IQ of students.\n",
    "\n",
    "Each red region would be calculated as $\\dfrac{\\alpha}{2}$. When testing of a single side (as in the example) i.e. just higher OR just lower, you can use a one-tail test as shown in the first and second images. The $\\alpha$ value we use is 0.05 or $5\\%$.\n",
    "\n",
    "## Step 3: Calculate the test statistic\n",
    "\n",
    "For z-tests, a z-statistic is used as our test statistic. You'll see other statistics suitable for other tests later. A one-sample z-statistic is calculated as:\n",
    "\n",
    "$$ \\large \\text{z-statistic} = \\dfrac{\\bar x - \\mu_0}{{\\sigma}/{\\sqrt{n}}} $$\n",
    "\n",
    "This formula slightly differs from the standard score formula. It includes the square square root of n to reflect that we are dealing with the sample variance here. \n",
    "\n",
    "Now, all you need to do is use this formula given your sample mean $\\bar x$, the population standard deviation $\\sigma$, and the number of items in the sample ($n$). $\\mu_0$ is the mean you're testing the hypothesis for, or the \"hypothesized mean\". \n",
    "\n",
    "Let's use Python to calculate this. "
   ]
  },
  {
   "cell_type": "code",
   "execution_count": null,
   "metadata": {},
   "outputs": [],
   "source": []
  }
 ],
 "metadata": {
  "kernelspec": {
   "display_name": "Python 3",
   "language": "python",
   "name": "python3"
  },
  "language_info": {
   "codemirror_mode": {
    "name": "ipython",
    "version": 3
   },
   "file_extension": ".py",
   "mimetype": "text/x-python",
   "name": "python",
   "nbconvert_exporter": "python",
   "pygments_lexer": "ipython3",
   "version": "3.6.9"
  },
  "toc": {
   "base_numbering": 1,
   "nav_menu": {},
   "number_sections": true,
   "sideBar": true,
   "skip_h1_title": false,
   "title_cell": "Table of Contents",
   "title_sidebar": "Contents",
   "toc_cell": false,
   "toc_position": {},
   "toc_section_display": true,
   "toc_window_display": false
  }
 },
 "nbformat": 4,
 "nbformat_minor": 4
}
