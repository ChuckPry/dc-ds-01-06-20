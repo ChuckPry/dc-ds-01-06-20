{
 "cells": [
  {
   "cell_type": "markdown",
   "metadata": {},
   "source": [
    "Materials in this notebook is adapted from [Statistics for Business and Economics 10e Chapter 10](https://www.amazon.com/Statistics-Business-Economics-Education-Printed/dp/1305585313/ref=sr_1_5?keywords=statistics+for+business+and+economics+pagano&qid=1581359479&sr=8-5)"
   ]
  },
  {
   "cell_type": "markdown",
   "metadata": {},
   "source": [
    "  # Inferences about the differences between two population means\n",
    "  \n",
    "  \n",
    "Greystone Department Stores, Inc., operates two stores in Buffalo, New York: one is in the inner city and the other is in a suburban shopping center. \n",
    "\n",
    "- The regional manager noticed that products that sell well in one store do not always sell well in the other. The manager believes this situation may be attributable to differences in customer demographics at the two locations. Customers may differ in age, education, income, and so on. Suppose the manager asks us to investigate the difference between the mean ages of the customers who shop at the two stores.\n",
    "\n",
    "- population 1 as all customers who shop at the inner city store\n",
    "\n",
    "- population 2 as all customers who shop at the suburban store.\n"
   ]
  },
  {
   "cell_type": "markdown",
   "metadata": {},
   "source": [
    "$\\mu_{1}:$ Mean of population 1 (Mean age of the customers shopping from inner-city store)\n",
    "\n",
    "$\\mu_{2}:$ Mean of population 2 (Mean age of customers  shooping from suburban store)\n",
    "\n",
    "\n",
    "Q: Is there a difference between $\\mu_{1}$ and $\\mu_{2}$? In other words, whether $\\mu_{1} - \\mu_{2} = 0$ ?\n",
    "\n",
    "__Remark__\n",
    "\n",
    "Note that $\\mu_{1}$ and $\\mu_{2}$ are population parameters and we don't know the actual values. So we should estimate them from samples."
   ]
  },
  {
   "cell_type": "markdown",
   "metadata": {},
   "source": [
    "## Finding an Interval Estimate for $\\mu_{1} - \\mu_{2}$\n",
    "\n",
    "1. Select a random sample of $n_{1}$ customers from customers shopping inner-city store.\n",
    "\n",
    "2. Select a random sample of $n_{2}$ customers from customers shopping suburban store. \n",
    "\n",
    "\n",
    "__Note__\n",
    "\n",
    "Suppose population the standard deviations $\\sigma_{1} = 9$ and  $\\sigma_{2} = 10$ are known.\n"
   ]
  },
  {
   "cell_type": "code",
   "execution_count": 45,
   "metadata": {},
   "outputs": [],
   "source": [
    "## your work here \n",
    "\n",
    "## If you want to check how to use pickle\n",
    "\n",
    "## https://www.thoughtco.com/using-pickle-to-save-objects-2813661"
   ]
  },
  {
   "cell_type": "code",
   "execution_count": 1,
   "metadata": {},
   "outputs": [],
   "source": [
    "import pickle\n",
    "import numpy as np\n",
    "\n",
    "file_sample1 = open('sample_inner.obj', 'rb')\n",
    "sample1 = pickle.load(file_sample1)\n",
    "file_sample1.close()\n",
    "\n",
    "file_sample2 = open('sample_suburban.obj', 'rb')\n",
    "sample2 = pickle.load(file_sample2)\n",
    "file_sample2.close()"
   ]
  },
  {
   "cell_type": "code",
   "execution_count": 4,
   "metadata": {},
   "outputs": [
    {
     "data": {
      "text/plain": [
       "40.00990876845374"
      ]
     },
     "execution_count": 4,
     "metadata": {},
     "output_type": "execute_result"
    }
   ],
   "source": [
    "sample1.mean()\n"
   ]
  },
  {
   "cell_type": "code",
   "execution_count": 5,
   "metadata": {},
   "outputs": [
    {
     "data": {
      "text/plain": [
       "32.63569329600446"
      ]
     },
     "execution_count": 5,
     "metadata": {},
     "output_type": "execute_result"
    }
   ],
   "source": [
    "sample2.mean()"
   ]
  },
  {
   "cell_type": "markdown",
   "metadata": {},
   "source": [
    "__Your turn__\n",
    "\n",
    "1. Find $\\bar{x}_{1}:$ sample mean for the age of customers shopping from inner-city store.\n",
    "\n",
    "2. Find $\\bar{x}_{2}:$ sample mean for the age of customers shopping from suburban store.\n",
    "\n",
    "3. Find $\\bar{x}_{1} - \\bar{x}_{2}$? This will give us a point estimator for $\\mu_{1} - \\mu_{2}$\n",
    "\n",
    "3. Make a guess for $\\mu_{1} - \\mu_{2}$\n"
   ]
  },
  {
   "cell_type": "code",
   "execution_count": 18,
   "metadata": {},
   "outputs": [
    {
     "data": {
      "text/plain": [
       "7.374215472449279"
      ]
     },
     "execution_count": 18,
     "metadata": {},
     "output_type": "execute_result"
    }
   ],
   "source": [
    "## your code is here\n",
    "\n",
    "x1_bar = sample1.mean()\n",
    "\n",
    "x2_bar = sample2.mean()\n",
    "h = x1_bar - x2_bar\n",
    "h"
   ]
  },
  {
   "cell_type": "markdown",
   "metadata": {},
   "source": [
    "__Q__: How can we find a good __interval estimate__ for $\\mu_{1} - \\mu_{2}$?\n",
    "\n",
    "__Short Answer:__ We know that the sampling distribution of  $\\bar{x}_{1} - \\bar{x}_{2}$ having __normal distribution__ with mean $\\mu_{1} - \\mu_{2}$ and standard deviation: \n",
    "\n",
    "$$ \\sigma_{\\bar{x}_{1} - \\bar{x}_{2}} = \\sigma_{\\text{sampling}} = \\sqrt{\\frac{\\sigma_{1}^{2}}{n_{1}} + \\frac{\\sigma_{2}^{2}}{n_{2}}} $$\n",
    "\n",
    "__Note__: The sampling  standardard  deviation is also known as standard error."
   ]
  },
  {
   "cell_type": "markdown",
   "metadata": {},
   "source": [
    "__Your Turn__\n",
    "\n",
    "1. What is the value of $\\sigma_{1}$ \n",
    "\n",
    "2. What is the value of $\\sigma_{2}$\n",
    "\n",
    "3. What is the value of $n_{1}$\n",
    "\n",
    "4. What is the value of $n_{2}$\n",
    "\n",
    "5. Use 1-4 to find $\\sigma_{\\bar{x}_{1} - \\bar{x}_{2}}$ and keep this number in a variable named as \"standard_error\"."
   ]
  },
  {
   "cell_type": "code",
   "execution_count": 10,
   "metadata": {},
   "outputs": [
    {
     "data": {
      "text/plain": [
       "2.071428571428571"
      ]
     },
     "execution_count": 10,
     "metadata": {},
     "output_type": "execute_result"
    }
   ],
   "source": [
    "sigma1 = 9\n",
    "\n",
    "sigma2 = 10\n",
    "\n",
    "n1 = len(sample1)\n",
    "\n",
    "n2 = len(sample2)\n",
    "\n",
    "standard_error = np.sqrt((sigma1**2 / n1) + (sigma2**2 / n2))\n",
    "standard_error"
   ]
  },
  {
   "cell_type": "markdown",
   "metadata": {},
   "source": [
    "<img src = \"img/margin_of_error.png\" width = 350>"
   ]
  },
  {
   "cell_type": "code",
   "execution_count": 11,
   "metadata": {},
   "outputs": [
    {
     "data": {
      "text/plain": [
       "1.959963984540054"
      ]
     },
     "execution_count": 11,
     "metadata": {},
     "output_type": "execute_result"
    }
   ],
   "source": [
    "import scipy.stats as stats\n",
    "stats.norm.ppf(.975)"
   ]
  },
  {
   "cell_type": "code",
   "execution_count": 12,
   "metadata": {},
   "outputs": [
    {
     "data": {
      "text/plain": [
       "-1.9599639845400545"
      ]
     },
     "execution_count": 12,
     "metadata": {},
     "output_type": "execute_result"
    }
   ],
   "source": [
    "stats.norm.ppf(.025)"
   ]
  },
  {
   "cell_type": "code",
   "execution_count": 13,
   "metadata": {},
   "outputs": [
    {
     "data": {
      "text/plain": [
       "-4.059925396547255"
      ]
     },
     "execution_count": 13,
     "metadata": {},
     "output_type": "execute_result"
    }
   ],
   "source": [
    "_*standard_error"
   ]
  },
  {
   "cell_type": "markdown",
   "metadata": {},
   "source": [
    "__Your Turn__\n",
    "\n",
    "1. Find $z_{\\alpha/2}$ for the confidence level $\\alpha = 0.95$.\n",
    "\n",
    "2. Calculate margin of error using the formula above and record this in a variable named as \"margin_of_error\"\n"
   ]
  },
  {
   "cell_type": "code",
   "execution_count": 17,
   "metadata": {},
   "outputs": [
    {
     "data": {
      "text/plain": [
       "(3.314290075902025, 11.434140868996533)"
      ]
     },
     "execution_count": 17,
     "metadata": {},
     "output_type": "execute_result"
    }
   ],
   "source": [
    "z_alpha = stats.norm.ppf(.975)\n",
    "\n",
    "margin_of_error = z_alpha * standard_error\n",
    "\n",
    "upper_bound = h + margin_of_error\n",
    "lower_bound  = h - margin_of_error\n",
    "(lower_bound, upper_bound)"
   ]
  },
  {
   "cell_type": "markdown",
   "metadata": {},
   "source": [
    "Note that once we can calculate the margin  of  error then we can create an interval estimate. \n",
    "\n",
    "<img src = \"img/interval_estimate.png\" width = 450>"
   ]
  },
  {
   "cell_type": "markdown",
   "metadata": {},
   "source": [
    "__Your turn__\n",
    "\n",
    "1. Find a interval estimate for $\\mu_{1} - \\mu_{2}$ with the confidence level $\\alpha = 0.95$"
   ]
  },
  {
   "cell_type": "markdown",
   "metadata": {},
   "source": [
    "## Hypothesis Tests about $\\mu_{1} - \\mu_{2}$\n",
    "\n",
    "### Two Tailed\n",
    "\n",
    "1. Suppose we hypothesis that there is a age difference $D_{0}$ is 5 between inner city customers and suburban customers.\n",
    "\n",
    "Mathematically we can express this as:\n",
    "\n",
    "\\begin{equation}\n",
    "    H_{a}:  \\mu_{1} - \\mu_{2} = D_{0} = 5\\\\\n",
    "    H_{0}:  \\mu_{1} - \\mu_{2} \\neq D_{0} = 5 \\\\ \n",
    "    \\text{Significance Level: }\\alpha = 0.05\n",
    "\\end{equation}\n",
    "\n",
    "### One-Tailed Hypothesis Testing (Directional)\n",
    "\n",
    "a. The suburban customers are 5 years older than inner city customers. \n",
    "\n",
    "Mathematically we can express this as:\n",
    "\n",
    "\\begin{equation}\n",
    "    H_{a}:  \\mu_{2} - \\mu_{1} > D_{0} = 5\\\\\n",
    "    H_{0}:  \\mu_{2} - \\mu_{1} \\leq D_{0} = 5\\\\\n",
    "    \\text{Significance Level: }\\alpha = 0.05\n",
    "\\end{equation}\n",
    "\n",
    "\n",
    "b. The inner-city customers are 5 years older than suburban customers. \n",
    "\n",
    "Mathematically we can express this as:\n",
    "\n",
    "\\begin{equation}\n",
    "    H_{a}:  \\mu_{1} - \\mu_{2} > D_{0} = 5\\\\\n",
    "    H_{0}:  \\mu_{1} - \\mu_{2} \\leq D_{0} = 5\\\\\n",
    "    \\text{Significance Level: } \\alpha = 0.05\n",
    "\\end{equation}"
   ]
  },
  {
   "cell_type": "markdown",
   "metadata": {},
   "source": [
    "__Your Turn__\n",
    "\n",
    "1. Find the difference $\\bar{x}_{1} - \\bar{x}_{2}$."
   ]
  },
  {
   "cell_type": "code",
   "execution_count": null,
   "metadata": {},
   "outputs": [],
   "source": [
    "## your code is here\n"
   ]
  },
  {
   "cell_type": "markdown",
   "metadata": {},
   "source": [
    "2. What is the form of the sampling distribution of $\\bar{x}_{1} - \\bar{x}_{2}$?"
   ]
  },
  {
   "cell_type": "code",
   "execution_count": null,
   "metadata": {},
   "outputs": [],
   "source": [
    "## Your answer here\n"
   ]
  },
  {
   "cell_type": "markdown",
   "metadata": {},
   "source": [
    "3. What is the mean of the distribution $\\bar{x}_{1} - \\bar{x}_{2}$?\n"
   ]
  },
  {
   "cell_type": "code",
   "execution_count": 19,
   "metadata": {},
   "outputs": [
    {
     "data": {
      "text/plain": [
       "7.374215472449279"
      ]
     },
     "execution_count": 19,
     "metadata": {},
     "output_type": "execute_result"
    }
   ],
   "source": [
    "## Your answer here\n",
    "h"
   ]
  },
  {
   "cell_type": "markdown",
   "metadata": {},
   "source": [
    "4. What is the standard deviation of the distribution $\\bar{x}_{1} - \\bar{x}_{2}$?"
   ]
  },
  {
   "cell_type": "code",
   "execution_count": null,
   "metadata": {},
   "outputs": [],
   "source": [
    "## Your answer here\n"
   ]
  },
  {
   "cell_type": "markdown",
   "metadata": {},
   "source": [
    "5. Can you find how many standard deviations is $\\bar{x}_{1} - \\bar{x}_{2}$ away from $\\mu_{1} - \\mu_{2}$? Note that this number also known as z_score!"
   ]
  },
  {
   "cell_type": "code",
   "execution_count": null,
   "metadata": {},
   "outputs": [],
   "source": [
    "## Your answer here\n"
   ]
  },
  {
   "cell_type": "markdown",
   "metadata": {},
   "source": [
    "6. Use \"stats.cdf\" from \"scipy.stats\" to find the p_value."
   ]
  },
  {
   "cell_type": "code",
   "execution_count": 44,
   "metadata": {},
   "outputs": [],
   "source": [
    "import scipy.stats as stats\n",
    "\n",
    "## Your answer here"
   ]
  },
  {
   "cell_type": "code",
   "execution_count": null,
   "metadata": {},
   "outputs": [],
   "source": []
  }
 ],
 "metadata": {
  "kernelspec": {
   "display_name": "Python 3",
   "language": "python",
   "name": "python3"
  },
  "language_info": {
   "codemirror_mode": {
    "name": "ipython",
    "version": 3
   },
   "file_extension": ".py",
   "mimetype": "text/x-python",
   "name": "python",
   "nbconvert_exporter": "python",
   "pygments_lexer": "ipython3",
   "version": "3.6.9"
  },
  "toc": {
   "base_numbering": 1,
   "nav_menu": {},
   "number_sections": true,
   "sideBar": true,
   "skip_h1_title": false,
   "title_cell": "Table of Contents",
   "title_sidebar": "Contents",
   "toc_cell": false,
   "toc_position": {},
   "toc_section_display": true,
   "toc_window_display": false
  }
 },
 "nbformat": 4,
 "nbformat_minor": 4
}
