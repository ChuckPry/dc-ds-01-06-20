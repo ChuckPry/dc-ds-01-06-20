{
 "cells": [
  {
   "cell_type": "markdown",
   "metadata": {
    "slideshow": {
     "slide_type": "slide"
    }
   },
   "source": [
    "# On Decision Trees\n",
    "\n",
    "### We use them every day\n",
    "\n",
    "![tree](img/tree.jpeg)"
   ]
  },
  {
   "cell_type": "markdown",
   "metadata": {
    "slideshow": {
     "slide_type": "slide"
    }
   },
   "source": [
    "## Outcomes\n",
    "\n",
    "- summarize the intuitive logic behind decision trees\n",
    "- solve a small example with metric\n",
    "- explore the fine-tuning options in `sklearn` for decision trees\n",
    "- build a decision tree in `sklearn`\n"
   ]
  },
  {
   "cell_type": "markdown",
   "metadata": {
    "slideshow": {
     "slide_type": "slide"
    }
   },
   "source": [
    "The key tool of decision trees is that some attributes provide more _information_ than others when trying to make a decision.<br>\n",
    "And we rank attributes in the hierarchy based on how useful they are."
   ]
  },
  {
   "cell_type": "markdown",
   "metadata": {
    "slideshow": {
     "slide_type": "slide"
    }
   },
   "source": [
    "### Example 1 - when looking to monogamously date someone\n",
    "Which is more important?"
   ]
  },
  {
   "cell_type": "markdown",
   "metadata": {
    "slideshow": {
     "slide_type": "slide"
    }
   },
   "source": [
    "Their taste in music?\n",
    "![music](img/music.png)"
   ]
  },
  {
   "cell_type": "markdown",
   "metadata": {
    "slideshow": {
     "slide_type": "slide"
    }
   },
   "source": [
    "Or if they are married already?\n",
    "![married2](img/married2.png)"
   ]
  },
  {
   "cell_type": "markdown",
   "metadata": {
    "slideshow": {
     "slide_type": "slide"
    }
   },
   "source": [
    "### Example 3 with some vocab\n",
    "Rory is a teenager trying to decide if he wants to go to a party, and this is the decision tree represtinging his process:"
   ]
  },
  {
   "cell_type": "markdown",
   "metadata": {
    "slideshow": {
     "slide_type": "slide"
    }
   },
   "source": [
    "#### His decision tree\n",
    "![party](img/party.png)\n",
    "\n",
    "( image from this [site](https://chunml.github.io/ChunML.github.io/tutorial/Decision-Tree/) )"
   ]
  },
  {
   "cell_type": "markdown",
   "metadata": {
    "slideshow": {
     "slide_type": "slide"
    }
   },
   "source": [
    "### Vocabulary: nodes\n",
    "\n",
    "![nodes](img/terminology1.png)"
   ]
  },
  {
   "cell_type": "markdown",
   "metadata": {
    "slideshow": {
     "slide_type": "slide"
    }
   },
   "source": [
    "### Vocabulary: splits & branches\n",
    "\n",
    "![split](img/terminology2.png)"
   ]
  },
  {
   "cell_type": "markdown",
   "metadata": {
    "slideshow": {
     "slide_type": "slide"
    }
   },
   "source": [
    "### Example 4: with data\n",
    "\n",
    "Suppose we're working on a classification algorithm designed to **sort customers into two classes: those who pay their sales bills and those who don't**.\n",
    "\n",
    "Each row in my dataframe represents a customer, and I have many predictors (columns) in my dataframe, including:\n",
    "\n",
    "- salary\n",
    "- total_bill\n",
    "- club_member (boolean)\n",
    "- years_post-sec_ed\n",
    "\n",
    "Let's look at a simple set of data. **The 'paid' column is our target or dependent variable.**"
   ]
  },
  {
   "cell_type": "code",
   "execution_count": 1,
   "metadata": {
    "slideshow": {
     "slide_type": "notes"
    }
   },
   "outputs": [],
   "source": [
    "import pandas as pd\n",
    "custs = pd.DataFrame([[45000, 1000, True, 2, False], [70000, 100, True, 10, True],\n",
    "             [30000, 2000, False, 0, False], [90000, 500, True, 2, True],\n",
    "             [70000, 200, True, 5, False]],\n",
    "            columns=['salary', 'total_bill', 'club_member', 'years_post-sec_ed',\n",
    "                    'paid'])\n"
   ]
  },
  {
   "cell_type": "code",
   "execution_count": 2,
   "metadata": {},
   "outputs": [
    {
     "data": {
      "text/html": [
       "<div>\n",
       "<style scoped>\n",
       "    .dataframe tbody tr th:only-of-type {\n",
       "        vertical-align: middle;\n",
       "    }\n",
       "\n",
       "    .dataframe tbody tr th {\n",
       "        vertical-align: top;\n",
       "    }\n",
       "\n",
       "    .dataframe thead th {\n",
       "        text-align: right;\n",
       "    }\n",
       "</style>\n",
       "<table border=\"1\" class=\"dataframe\">\n",
       "  <thead>\n",
       "    <tr style=\"text-align: right;\">\n",
       "      <th></th>\n",
       "      <th>salary</th>\n",
       "      <th>total_bill</th>\n",
       "      <th>club_member</th>\n",
       "      <th>years_post-sec_ed</th>\n",
       "      <th>paid</th>\n",
       "    </tr>\n",
       "  </thead>\n",
       "  <tbody>\n",
       "    <tr>\n",
       "      <td>0</td>\n",
       "      <td>45000</td>\n",
       "      <td>1000</td>\n",
       "      <td>True</td>\n",
       "      <td>2</td>\n",
       "      <td>False</td>\n",
       "    </tr>\n",
       "    <tr>\n",
       "      <td>1</td>\n",
       "      <td>70000</td>\n",
       "      <td>100</td>\n",
       "      <td>True</td>\n",
       "      <td>10</td>\n",
       "      <td>True</td>\n",
       "    </tr>\n",
       "    <tr>\n",
       "      <td>2</td>\n",
       "      <td>30000</td>\n",
       "      <td>2000</td>\n",
       "      <td>False</td>\n",
       "      <td>0</td>\n",
       "      <td>False</td>\n",
       "    </tr>\n",
       "    <tr>\n",
       "      <td>3</td>\n",
       "      <td>90000</td>\n",
       "      <td>500</td>\n",
       "      <td>True</td>\n",
       "      <td>2</td>\n",
       "      <td>True</td>\n",
       "    </tr>\n",
       "    <tr>\n",
       "      <td>4</td>\n",
       "      <td>70000</td>\n",
       "      <td>200</td>\n",
       "      <td>True</td>\n",
       "      <td>5</td>\n",
       "      <td>False</td>\n",
       "    </tr>\n",
       "  </tbody>\n",
       "</table>\n",
       "</div>"
      ],
      "text/plain": [
       "   salary  total_bill  club_member  years_post-sec_ed   paid\n",
       "0   45000        1000         True                  2  False\n",
       "1   70000         100         True                 10   True\n",
       "2   30000        2000        False                  0  False\n",
       "3   90000         500         True                  2   True\n",
       "4   70000         200         True                  5  False"
      ]
     },
     "execution_count": 2,
     "metadata": {},
     "output_type": "execute_result"
    }
   ],
   "source": [
    "custs"
   ]
  },
  {
   "cell_type": "markdown",
   "metadata": {
    "slideshow": {
     "slide_type": "slide"
    }
   },
   "source": [
    "## Partitioning\n",
    "\n",
    "I partition my data by asking a question about the independent variables. The goal is to ask the right questions in the right order so that the resultant groups are \"pure\" with respect to the dependent variable. More on this below!\n"
   ]
  },
  {
   "cell_type": "markdown",
   "metadata": {
    "slideshow": {
     "slide_type": "slide"
    }
   },
   "source": [
    "### Let's explore some variables below:"
   ]
  },
  {
   "cell_type": "code",
   "execution_count": 3,
   "metadata": {
    "slideshow": {
     "slide_type": "slide"
    }
   },
   "outputs": [
    {
     "data": {
      "text/html": [
       "<div>\n",
       "<style scoped>\n",
       "    .dataframe tbody tr th:only-of-type {\n",
       "        vertical-align: middle;\n",
       "    }\n",
       "\n",
       "    .dataframe tbody tr th {\n",
       "        vertical-align: top;\n",
       "    }\n",
       "\n",
       "    .dataframe thead th {\n",
       "        text-align: right;\n",
       "    }\n",
       "</style>\n",
       "<table border=\"1\" class=\"dataframe\">\n",
       "  <thead>\n",
       "    <tr style=\"text-align: right;\">\n",
       "      <th></th>\n",
       "      <th>salary</th>\n",
       "      <th>total_bill</th>\n",
       "      <th>club_member</th>\n",
       "      <th>years_post-sec_ed</th>\n",
       "      <th>paid</th>\n",
       "    </tr>\n",
       "  </thead>\n",
       "  <tbody>\n",
       "    <tr>\n",
       "      <td>2</td>\n",
       "      <td>30000</td>\n",
       "      <td>2000</td>\n",
       "      <td>False</td>\n",
       "      <td>0</td>\n",
       "      <td>False</td>\n",
       "    </tr>\n",
       "    <tr>\n",
       "      <td>0</td>\n",
       "      <td>45000</td>\n",
       "      <td>1000</td>\n",
       "      <td>True</td>\n",
       "      <td>2</td>\n",
       "      <td>False</td>\n",
       "    </tr>\n",
       "    <tr>\n",
       "      <td>1</td>\n",
       "      <td>70000</td>\n",
       "      <td>100</td>\n",
       "      <td>True</td>\n",
       "      <td>10</td>\n",
       "      <td>True</td>\n",
       "    </tr>\n",
       "    <tr>\n",
       "      <td>4</td>\n",
       "      <td>70000</td>\n",
       "      <td>200</td>\n",
       "      <td>True</td>\n",
       "      <td>5</td>\n",
       "      <td>False</td>\n",
       "    </tr>\n",
       "    <tr>\n",
       "      <td>3</td>\n",
       "      <td>90000</td>\n",
       "      <td>500</td>\n",
       "      <td>True</td>\n",
       "      <td>2</td>\n",
       "      <td>True</td>\n",
       "    </tr>\n",
       "  </tbody>\n",
       "</table>\n",
       "</div>"
      ],
      "text/plain": [
       "   salary  total_bill  club_member  years_post-sec_ed   paid\n",
       "2   30000        2000        False                  0  False\n",
       "0   45000        1000         True                  2  False\n",
       "1   70000         100         True                 10   True\n",
       "4   70000         200         True                  5  False\n",
       "3   90000         500         True                  2   True"
      ]
     },
     "execution_count": 3,
     "metadata": {},
     "output_type": "execute_result"
    }
   ],
   "source": [
    "test = custs.sort_values(['salary'])\n",
    "test"
   ]
  },
  {
   "cell_type": "markdown",
   "metadata": {
    "slideshow": {
     "slide_type": "slide"
    }
   },
   "source": [
    "### Is the customer a club member?\n",
    "\n",
    "This would divide my data into two groups:\n",
    "\n",
    "- Group 1:\n",
    "\n",
    "data points: 0, 1, 3, 4 (dep. var.: False, True, True, False)\n",
    "\n",
    "- Group 2:\n",
    "\n",
    "data points: 2 (dep. var.: False)\n",
    "\n",
    "While I've isolated one of the customers who haven't paid in the second group, the first group is an even mix of payers and non-payers. So this split is not particularly good.\n",
    "\n",
    "Would a different question split our data more effectively? Let's try:"
   ]
  },
  {
   "cell_type": "markdown",
   "metadata": {
    "slideshow": {
     "slide_type": "slide"
    }
   },
   "source": [
    "### \"Is the customer's salary less than $60k?\"\n",
    "\n",
    "This would divide my data into two groups:\n",
    "\n",
    "- Group 1:\n",
    "\n",
    "data points: 0, 2 (dep. var.: False, False)\n",
    "\n",
    "-  Group 2:\n",
    "\n",
    "data points: 1, 3, 4 (dep. var.: True, True, False)"
   ]
  },
  {
   "cell_type": "markdown",
   "metadata": {
    "slideshow": {
     "slide_type": "slide"
    }
   },
   "source": [
    "## Which feature is more accurate in predicting whether and individual pays their bill?"
   ]
  },
  {
   "cell_type": "markdown",
   "metadata": {
    "slideshow": {
     "slide_type": "notes"
    }
   },
   "source": [
    "This does a better job of partitioning my data according to the values of the dependent variable: The first group contains only customers who have not paid their bills, and the second group contains only one customer who has not paid her bill.\n",
    "\n",
    "So a (very simple!) model that predicts:\n",
    "(i) that customers who make less than $60k *won't* pay their bill, and\n",
    "(ii) that customers who make $60k or more *will* pay their bill\n",
    "\n",
    "would perform fairly well.\n",
    "\n",
    "But how would my partition be *best* split? And how do I really know that the second split is better than the first? Can I do better than intuition here?"
   ]
  },
  {
   "cell_type": "markdown",
   "metadata": {
    "slideshow": {
     "slide_type": "slide"
    }
   },
   "source": [
    "## Entropy and Information Gain\n",
    "\n",
    "The goal is to have our ultimate classes be fully \"ordered\" (for a binary dependent variable, we'd have the 1's in one group and the 0's in the other). So one way to assess the value of a split is to measure how *disordered* our groups are, and there is a notion of *entropy* that measures precisely this.\n",
    "\n",
    "The entropy of the whole dataset is given by:\n",
    "\n",
    "$\\large E = -\\Sigma_i p_i\\log_2(p_i)$,\n",
    "\n",
    "where $p_i$ is the probability of belonging to the $i$th group."
   ]
  },
  {
   "cell_type": "markdown",
   "metadata": {
    "slideshow": {
     "slide_type": "slide"
    }
   },
   "source": [
    "**Entropy will always be between 0 and 1. The closer to 1, the more disordered your group.**\n",
    "\n",
    "To repeat, in the present case we have only two groups of interest: the payers (2/5) and the non-payers (3/5).\n",
    "\n",
    "So our entropy for this toy dataset is:\n",
    "\n",
    "$-0.4*\\log_2(0.4) -0.6*\\log_2(0.6)$.\n",
    "\n",
    "Let's use the ```math``` library to calculate this:"
   ]
  },
  {
   "cell_type": "code",
<<<<<<< HEAD
   "execution_count": 6,
=======
   "execution_count": 7,
   "metadata": {},
   "outputs": [
    {
     "data": {
      "text/plain": [
       "0.9182958340544896"
      ]
     },
     "execution_count": 7,
     "metadata": {},
     "output_type": "execute_result"
    }
   ],
   "source": [
    "## we are calculating the entropy of a box with p_0 = 1/3, p_1 = 2/3\n",
    "\n",
    "ent = -((1/3)*log((1/3),2) + (2/3)*log((2/3), 2))\n",
    "\n",
    "ent"
   ]
  },
  {
   "cell_type": "code",
   "execution_count": 3,
>>>>>>> 7a8c8eb08eaf71e3bccdfcfe9d3079cd3aa48311
   "metadata": {
    "slideshow": {
     "slide_type": "skip"
    }
   },
   "outputs": [
    {
     "data": {
      "text/plain": [
       "0.9849625007211564"
      ]
     },
<<<<<<< HEAD
     "execution_count": 6,
=======
     "execution_count": 3,
>>>>>>> 7a8c8eb08eaf71e3bccdfcfe9d3079cd3aa48311
     "metadata": {},
     "output_type": "execute_result"
    }
   ],
   "source": [
    "from math import log\n",
    "\n",
    "# Your code here!\n",
    "\n",
    "ent_whole = -2/5*log(1/3,2)-3/5*log(2/3,2)\n",
    "ent_whole"
   ]
  },
  {
   "cell_type": "markdown",
   "metadata": {
    "slideshow": {
     "slide_type": "notes"
    }
   },
   "source": [
    "That's pretty disordered!"
   ]
  },
  {
   "cell_type": "markdown",
   "metadata": {
    "slideshow": {
     "slide_type": "slide"
    }
   },
   "source": [
    "To calculate the entropy of a *split*, we're going to want to calculate the entropy of each of the groups made by the split, and then calculate a weighted average of those groups' entropies––weighted, that is, by the size of the groups. Let's calculate the entropy of the split produced by our question above about salary:\n",
    "\n",
    "Group 1:\n",
    "\n",
    "$E_{g1} = 0 * \\log_2(0) - 1 * \\log_2(1) = 0$. This is a pure group! The probability of being a payer in Group 1 is 0 and the probability of being a non-payer in Group 1 is 1.\n",
    "\n",
    "Group 2:\n",
    "\n",
    "$E_{g2} = \\frac{2}{3} * \\log_2\\left(\\frac{2}{3}\\right) - \\frac{1}{3} * \\log_2\\left(\\frac{1}{3}\\right)$.\n",
    "\n",
    "Once again, using ```math```:"
   ]
  },
  {
   "cell_type": "code",
   "execution_count": 32,
   "metadata": {
    "slideshow": {
     "slide_type": "skip"
    }
   },
   "outputs": [
    {
     "data": {
      "text/plain": [
       "0.9182958340544896"
      ]
     },
     "execution_count": 32,
     "metadata": {},
     "output_type": "execute_result"
    }
   ],
   "source": [
    "# Your code here!\n",
    "\n",
    "ent_grp2 = -(2/3)*log(2/3,2)-1/3*log(1/3,2)\n",
    "ent_grp2"
   ]
  },
  {
   "cell_type": "markdown",
   "metadata": {
    "slideshow": {
     "slide_type": "slide"
    }
   },
   "source": [
    "To get the whole entropy for this split, we'll do a weighted sum of the two group entropies:"
   ]
  },
  {
   "cell_type": "code",
   "execution_count": 33,
   "metadata": {
    "slideshow": {
     "slide_type": "notes"
    }
   },
   "outputs": [
    {
     "data": {
      "text/plain": [
       "0.5509775004326937"
      ]
     },
     "execution_count": 33,
     "metadata": {},
     "output_type": "execute_result"
    }
   ],
   "source": [
    "# Your code here!\n",
    "\n",
    "(2/5)*0 + (3/5)*ent_grp2"
   ]
  },
  {
   "cell_type": "markdown",
   "metadata": {
    "slideshow": {
     "slide_type": "slide"
    }
   },
   "source": [
    "For a given split, the **information gain** is simply the entropy of the parent group less the entropy of the split.\n",
    "\n",
    "For a given parent, then, we maximize our model's performance by *minimizing* the split's entropy.\n",
    "\n",
    "What we'd like to do then is:\n",
    "\n",
    "1. to look at the entropies of all possible splits, and\n",
    "2. to choose the split with the lowest entropy.\n",
    "\n",
    "In practice there are far too many splits for it to be practical for a person to calculate all these different entropies ...\n",
    "\n",
    "... but we can make computers do these calculations for us!"
   ]
  },
  {
   "cell_type": "markdown",
   "metadata": {
    "slideshow": {
     "slide_type": "slide"
    }
   },
   "source": [
    "## Gini Impurity\n",
    "\n",
    "An alternative metric to entropy comes from the work of Corrado Gini. The Gini Impurity is defined as:\n",
    "\n",
    "$\\large G = 1 - \\Sigma_i p_i^2$,\n",
    "\n",
    "where, again, $p_i$ is the probability of belonging to the $i$th group.\n",
    "\n",
    "**Gini Impurity will always be between 0 and 0.5. The closer to 0.5, the more disordered your group.**"
   ]
  },
  {
   "cell_type": "markdown",
   "metadata": {
    "slideshow": {
     "slide_type": "slide"
    }
   },
   "source": [
    "Exercise: Calculate the Gini Impurity for our toy dataset above."
   ]
  },
  {
   "cell_type": "code",
   "execution_count": 53,
   "metadata": {
    "slideshow": {
     "slide_type": "notes"
    }
   },
   "outputs": [],
   "source": [
    "# Your code here!\n"
   ]
  },
  {
   "cell_type": "code",
   "execution_count": 9,
   "metadata": {},
   "outputs": [
    {
     "data": {
      "text/plain": [
       "-14.287712379549449"
      ]
     },
     "execution_count": 9,
     "metadata": {},
     "output_type": "execute_result"
    }
   ],
   "source": [
    "log(0.00005, 2)"
   ]
  },
  {
   "cell_type": "markdown",
   "metadata": {
    "slideshow": {
     "slide_type": "slide"
    }
   },
   "source": [
    "## Coding Trees in Python\n",
    "\n",
    "Scikit-learn has a tree module, which houses both a DecisionTreeClassifier and a DecisionTreeRegressor. The difference, as is probably clear by now, is that the former is for classification problems (discrete target) and the latter is for regression problems (continuous target). Let's use the classifier."
   ]
  },
  {
   "cell_type": "code",
<<<<<<< HEAD
   "execution_count": 7,
=======
   "execution_count": 11,
>>>>>>> 7a8c8eb08eaf71e3bccdfcfe9d3079cd3aa48311
   "metadata": {
    "slideshow": {
     "slide_type": "slide"
    }
   },
   "outputs": [],
   "source": [
    "from sklearn.tree import DecisionTreeClassifier\n"
   ]
  },
  {
   "cell_type": "code",
<<<<<<< HEAD
   "execution_count": 8,
=======
   "execution_count": 14,
   "metadata": {},
   "outputs": [
    {
     "data": {
      "text/html": [
       "<div>\n",
       "<style scoped>\n",
       "    .dataframe tbody tr th:only-of-type {\n",
       "        vertical-align: middle;\n",
       "    }\n",
       "\n",
       "    .dataframe tbody tr th {\n",
       "        vertical-align: top;\n",
       "    }\n",
       "\n",
       "    .dataframe thead th {\n",
       "        text-align: right;\n",
       "    }\n",
       "</style>\n",
       "<table border=\"1\" class=\"dataframe\">\n",
       "  <thead>\n",
       "    <tr style=\"text-align: right;\">\n",
       "      <th></th>\n",
       "      <th>salary</th>\n",
       "      <th>total_bill</th>\n",
       "      <th>club_member</th>\n",
       "      <th>years_post-sec_ed</th>\n",
       "      <th>paid</th>\n",
       "    </tr>\n",
       "  </thead>\n",
       "  <tbody>\n",
       "    <tr>\n",
       "      <th>0</th>\n",
       "      <td>45000</td>\n",
       "      <td>1000</td>\n",
       "      <td>True</td>\n",
       "      <td>2</td>\n",
       "      <td>False</td>\n",
       "    </tr>\n",
       "    <tr>\n",
       "      <th>1</th>\n",
       "      <td>70000</td>\n",
       "      <td>100</td>\n",
       "      <td>True</td>\n",
       "      <td>10</td>\n",
       "      <td>True</td>\n",
       "    </tr>\n",
       "    <tr>\n",
       "      <th>2</th>\n",
       "      <td>30000</td>\n",
       "      <td>2000</td>\n",
       "      <td>False</td>\n",
       "      <td>0</td>\n",
       "      <td>False</td>\n",
       "    </tr>\n",
       "    <tr>\n",
       "      <th>3</th>\n",
       "      <td>90000</td>\n",
       "      <td>500</td>\n",
       "      <td>True</td>\n",
       "      <td>2</td>\n",
       "      <td>True</td>\n",
       "    </tr>\n",
       "    <tr>\n",
       "      <th>4</th>\n",
       "      <td>70000</td>\n",
       "      <td>200</td>\n",
       "      <td>True</td>\n",
       "      <td>5</td>\n",
       "      <td>False</td>\n",
       "    </tr>\n",
       "  </tbody>\n",
       "</table>\n",
       "</div>"
      ],
      "text/plain": [
       "   salary  total_bill  club_member  years_post-sec_ed   paid\n",
       "0   45000        1000         True                  2  False\n",
       "1   70000         100         True                 10   True\n",
       "2   30000        2000        False                  0  False\n",
       "3   90000         500         True                  2   True\n",
       "4   70000         200         True                  5  False"
      ]
     },
     "execution_count": 14,
     "metadata": {},
     "output_type": "execute_result"
    }
   ],
   "source": [
    "custs.head()"
   ]
  },
  {
   "cell_type": "code",
   "execution_count": 17,
   "metadata": {},
   "outputs": [],
   "source": [
    "X = custs[['salary', 'total_bill', 'club_member', 'years_post-sec_ed']]\n",
    "\n",
    "y = custs.paid"
   ]
  },
  {
   "cell_type": "code",
   "execution_count": 31,
   "metadata": {},
   "outputs": [
    {
     "data": {
      "text/plain": [
       "DecisionTreeClassifier(class_weight=None, criterion='gini', max_depth=2,\n",
       "                       max_features=None, max_leaf_nodes=None,\n",
       "                       min_impurity_decrease=0.0, min_impurity_split=None,\n",
       "                       min_samples_leaf=1, min_samples_split=2,\n",
       "                       min_weight_fraction_leaf=0.0, presort=False,\n",
       "                       random_state=None, splitter='best')"
      ]
     },
     "execution_count": 31,
     "metadata": {},
     "output_type": "execute_result"
    }
   ],
   "source": [
    "clf = DecisionTreeClassifier(max_depth=2)\n",
    "\n",
    "clf.fit(X,y)"
   ]
  },
  {
   "cell_type": "code",
   "execution_count": 32,
   "metadata": {},
   "outputs": [],
   "source": [
    "from sklearn import tree\n",
    "\n",
    "%matplotlib inline"
   ]
  },
  {
   "cell_type": "code",
   "execution_count": 33,
   "metadata": {},
   "outputs": [
    {
     "data": {
      "image/png": "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\n",
      "text/plain": [
       "<Figure size 432x288 with 1 Axes>"
      ]
     },
     "metadata": {
      "needs_background": "light"
     },
     "output_type": "display_data"
    }
   ],
   "source": [
    "tree.plot_tree(clf.fit(custs.drop('paid', axis=1), custs['paid']),\n",
    "               feature_names= ['salary', 'total_bill', 'club_member', 'years_post-sec_ed'],\n",
    "               filled = True );"
   ]
  },
  {
   "cell_type": "code",
   "execution_count": 24,
>>>>>>> 7a8c8eb08eaf71e3bccdfcfe9d3079cd3aa48311
   "metadata": {
    "slideshow": {
     "slide_type": "slide"
    }
   },
   "outputs": [],
   "source": [
    "ct = DecisionTreeClassifier(max_depth=8) # Check out all the\n",
    "                              # hyperparameter options here!\n",
    "\n",
    "# dt_mod = ct.fit(custs.drop('paid', axis=1), custs['paid'])\n",
    "# dt_mod.score(custs.drop('paid', axis=1), custs['paid'])"
   ]
  },
  {
   "cell_type": "code",
<<<<<<< HEAD
   "execution_count": 12,
=======
   "execution_count": 25,
>>>>>>> 7a8c8eb08eaf71e3bccdfcfe9d3079cd3aa48311
   "metadata": {},
   "outputs": [],
   "source": [
    "from sklearn import tree\n",
    "\n",
    "%matplotlib inline"
   ]
  },
  {
   "cell_type": "code",
<<<<<<< HEAD
   "execution_count": 13,
=======
   "execution_count": 26,
>>>>>>> 7a8c8eb08eaf71e3bccdfcfe9d3079cd3aa48311
   "metadata": {},
   "outputs": [
    {
     "data": {
<<<<<<< HEAD
      "image/png": "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\n",
=======
      "image/png": "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\n",
>>>>>>> 7a8c8eb08eaf71e3bccdfcfe9d3079cd3aa48311
      "text/plain": [
       "<Figure size 432x288 with 1 Axes>"
      ]
     },
     "metadata": {
      "needs_background": "light"
     },
     "output_type": "display_data"
    }
   ],
   "source": [
    "tree.plot_tree(ct.fit(custs.drop('paid', axis=1), custs['paid']),\n",
    "               feature_names= ['salary', 'total_bill', 'club_member', 'years_post-sec_ed'],\n",
    "               filled = True );"
   ]
  },
  {
   "cell_type": "code",
   "execution_count": 19,
   "metadata": {},
   "outputs": [
    {
     "data": {
      "text/plain": [
       "Index(['salary', 'total_bill', 'club_member', 'years_post-sec_ed', 'paid'], dtype='object')"
      ]
     },
     "execution_count": 19,
     "metadata": {},
     "output_type": "execute_result"
    }
   ],
   "source": [
    "custs.columns"
   ]
  },
  {
   "cell_type": "code",
<<<<<<< HEAD
   "execution_count": 11,
   "metadata": {},
   "outputs": [],
   "source": [
    "x = custs[['salary', 'total_bill', 'club_member', 'years_post-sec_ed']]\n",
    "y = custs.paid"
   ]
  },
  {
   "cell_type": "code",
   "execution_count": 14,
=======
   "execution_count": 27,
>>>>>>> 7a8c8eb08eaf71e3bccdfcfe9d3079cd3aa48311
   "metadata": {},
   "outputs": [
    {
     "data": {
      "image/svg+xml": [
       "<?xml version=\"1.0\" encoding=\"UTF-8\" standalone=\"no\"?>\n",
       "<!DOCTYPE svg PUBLIC \"-//W3C//DTD SVG 1.1//EN\"\n",
       " \"http://www.w3.org/Graphics/SVG/1.1/DTD/svg11.dtd\">\n",
       "<!-- Generated by graphviz version 2.40.1 (20161225.0304)\n",
       " -->\n",
       "<!-- Title: Tree Pages: 1 -->\n",
<<<<<<< HEAD
       "<svg width=\"365pt\" height=\"433pt\"\n",
       " viewBox=\"0.00 0.00 365.00 433.00\" xmlns=\"http://www.w3.org/2000/svg\" xmlns:xlink=\"http://www.w3.org/1999/xlink\">\n",
       "<g id=\"graph0\" class=\"graph\" transform=\"scale(1 1) rotate(0) translate(4 429)\">\n",
       "<title>Tree</title>\n",
       "<polygon fill=\"#ffffff\" stroke=\"transparent\" points=\"-4,4 -4,-429 361,-429 361,4 -4,4\"/>\n",
       "<!-- 0 -->\n",
       "<g id=\"node1\" class=\"node\">\n",
       "<title>0</title>\n",
       "<path fill=\"#f6d5bd\" stroke=\"#000000\" d=\"M291.5,-425C291.5,-425 197.5,-425 197.5,-425 191.5,-425 185.5,-419 185.5,-413 185.5,-413 185.5,-354 185.5,-354 185.5,-348 191.5,-342 197.5,-342 197.5,-342 291.5,-342 291.5,-342 297.5,-342 303.5,-348 303.5,-354 303.5,-354 303.5,-413 303.5,-413 303.5,-419 297.5,-425 291.5,-425\"/>\n",
       "<text text-anchor=\"start\" x=\"193.5\" y=\"-409.8\" font-family=\"Helvetica,sans-Serif\" font-size=\"14.00\" fill=\"#000000\">total_bill ≤ 750.0</text>\n",
       "<text text-anchor=\"start\" x=\"212\" y=\"-394.8\" font-family=\"Helvetica,sans-Serif\" font-size=\"14.00\" fill=\"#000000\">gini = 0.48</text>\n",
       "<text text-anchor=\"start\" x=\"206.5\" y=\"-379.8\" font-family=\"Helvetica,sans-Serif\" font-size=\"14.00\" fill=\"#000000\">samples = 5</text>\n",
       "<text text-anchor=\"start\" x=\"204\" y=\"-364.8\" font-family=\"Helvetica,sans-Serif\" font-size=\"14.00\" fill=\"#000000\">value = [3, 2]</text>\n",
       "<text text-anchor=\"start\" x=\"212.5\" y=\"-349.8\" font-family=\"Helvetica,sans-Serif\" font-size=\"14.00\" fill=\"#000000\">class = no</text>\n",
=======
       "<svg width=\"351pt\" height=\"433pt\"\n",
       " viewBox=\"0.00 0.00 351.00 433.00\" xmlns=\"http://www.w3.org/2000/svg\" xmlns:xlink=\"http://www.w3.org/1999/xlink\">\n",
       "<g id=\"graph0\" class=\"graph\" transform=\"scale(1 1) rotate(0) translate(4 429)\">\n",
       "<title>Tree</title>\n",
       "<polygon fill=\"#ffffff\" stroke=\"transparent\" points=\"-4,4 -4,-429 347,-429 347,4 -4,4\"/>\n",
       "<!-- 0 -->\n",
       "<g id=\"node1\" class=\"node\">\n",
       "<title>0</title>\n",
       "<path fill=\"#f6d5bd\" stroke=\"#000000\" d=\"M159.5,-425C159.5,-425 63.5,-425 63.5,-425 57.5,-425 51.5,-419 51.5,-413 51.5,-413 51.5,-354 51.5,-354 51.5,-348 57.5,-342 63.5,-342 63.5,-342 159.5,-342 159.5,-342 165.5,-342 171.5,-348 171.5,-354 171.5,-354 171.5,-413 171.5,-413 171.5,-419 165.5,-425 159.5,-425\"/>\n",
       "<text text-anchor=\"start\" x=\"59.5\" y=\"-409.8\" font-family=\"Helvetica,sans-Serif\" font-size=\"14.00\" fill=\"#000000\">salary ≤ 57500.0</text>\n",
       "<text text-anchor=\"start\" x=\"79\" y=\"-394.8\" font-family=\"Helvetica,sans-Serif\" font-size=\"14.00\" fill=\"#000000\">gini = 0.48</text>\n",
       "<text text-anchor=\"start\" x=\"73.5\" y=\"-379.8\" font-family=\"Helvetica,sans-Serif\" font-size=\"14.00\" fill=\"#000000\">samples = 5</text>\n",
       "<text text-anchor=\"start\" x=\"71\" y=\"-364.8\" font-family=\"Helvetica,sans-Serif\" font-size=\"14.00\" fill=\"#000000\">value = [3, 2]</text>\n",
       "<text text-anchor=\"start\" x=\"79.5\" y=\"-349.8\" font-family=\"Helvetica,sans-Serif\" font-size=\"14.00\" fill=\"#000000\">class = no</text>\n",
>>>>>>> 7a8c8eb08eaf71e3bccdfcfe9d3079cd3aa48311
       "</g>\n",
       "<!-- 1 -->\n",
       "<g id=\"node2\" class=\"node\">\n",
       "<title>1</title>\n",
<<<<<<< HEAD
       "<path fill=\"#9ccef2\" stroke=\"#000000\" d=\"M229.5,-306C229.5,-306 133.5,-306 133.5,-306 127.5,-306 121.5,-300 121.5,-294 121.5,-294 121.5,-235 121.5,-235 121.5,-229 127.5,-223 133.5,-223 133.5,-223 229.5,-223 229.5,-223 235.5,-223 241.5,-229 241.5,-235 241.5,-235 241.5,-294 241.5,-294 241.5,-300 235.5,-306 229.5,-306\"/>\n",
       "<text text-anchor=\"start\" x=\"129.5\" y=\"-290.8\" font-family=\"Helvetica,sans-Serif\" font-size=\"14.00\" fill=\"#000000\">salary ≤ 80000.0</text>\n",
       "<text text-anchor=\"start\" x=\"145\" y=\"-275.8\" font-family=\"Helvetica,sans-Serif\" font-size=\"14.00\" fill=\"#000000\">gini = 0.444</text>\n",
       "<text text-anchor=\"start\" x=\"143.5\" y=\"-260.8\" font-family=\"Helvetica,sans-Serif\" font-size=\"14.00\" fill=\"#000000\">samples = 3</text>\n",
       "<text text-anchor=\"start\" x=\"141\" y=\"-245.8\" font-family=\"Helvetica,sans-Serif\" font-size=\"14.00\" fill=\"#000000\">value = [1, 2]</text>\n",
       "<text text-anchor=\"start\" x=\"146.5\" y=\"-230.8\" font-family=\"Helvetica,sans-Serif\" font-size=\"14.00\" fill=\"#000000\">class = yes</text>\n",
=======
       "<path fill=\"#e58139\" stroke=\"#000000\" d=\"M85,-298.5C85,-298.5 12,-298.5 12,-298.5 6,-298.5 0,-292.5 0,-286.5 0,-286.5 0,-242.5 0,-242.5 0,-236.5 6,-230.5 12,-230.5 12,-230.5 85,-230.5 85,-230.5 91,-230.5 97,-236.5 97,-242.5 97,-242.5 97,-286.5 97,-286.5 97,-292.5 91,-298.5 85,-298.5\"/>\n",
       "<text text-anchor=\"start\" x=\"19.5\" y=\"-283.3\" font-family=\"Helvetica,sans-Serif\" font-size=\"14.00\" fill=\"#000000\">gini = 0.0</text>\n",
       "<text text-anchor=\"start\" x=\"10.5\" y=\"-268.3\" font-family=\"Helvetica,sans-Serif\" font-size=\"14.00\" fill=\"#000000\">samples = 2</text>\n",
       "<text text-anchor=\"start\" x=\"8\" y=\"-253.3\" font-family=\"Helvetica,sans-Serif\" font-size=\"14.00\" fill=\"#000000\">value = [2, 0]</text>\n",
       "<text text-anchor=\"start\" x=\"16.5\" y=\"-238.3\" font-family=\"Helvetica,sans-Serif\" font-size=\"14.00\" fill=\"#000000\">class = no</text>\n",
>>>>>>> 7a8c8eb08eaf71e3bccdfcfe9d3079cd3aa48311
       "</g>\n",
       "<!-- 0&#45;&gt;1 -->\n",
       "<g id=\"edge1\" class=\"edge\">\n",
       "<title>0&#45;&gt;1</title>\n",
<<<<<<< HEAD
       "<path fill=\"none\" stroke=\"#000000\" d=\"M222.4657,-341.8796C217.936,-333.3236 213.1185,-324.2238 208.4382,-315.3833\"/>\n",
       "<polygon fill=\"#000000\" stroke=\"#000000\" points=\"211.4006,-313.4983 203.6284,-306.2981 205.2141,-316.7736 211.4006,-313.4983\"/>\n",
       "<text text-anchor=\"middle\" x=\"196.2762\" y=\"-326.4925\" font-family=\"Helvetica,sans-Serif\" font-size=\"14.00\" fill=\"#000000\">True</text>\n",
       "</g>\n",
       "<!-- 6 -->\n",
       "<g id=\"node7\" class=\"node\">\n",
       "<title>6</title>\n",
       "<path fill=\"#e58139\" stroke=\"#000000\" d=\"M345,-298.5C345,-298.5 272,-298.5 272,-298.5 266,-298.5 260,-292.5 260,-286.5 260,-286.5 260,-242.5 260,-242.5 260,-236.5 266,-230.5 272,-230.5 272,-230.5 345,-230.5 345,-230.5 351,-230.5 357,-236.5 357,-242.5 357,-242.5 357,-286.5 357,-286.5 357,-292.5 351,-298.5 345,-298.5\"/>\n",
       "<text text-anchor=\"start\" x=\"279.5\" y=\"-283.3\" font-family=\"Helvetica,sans-Serif\" font-size=\"14.00\" fill=\"#000000\">gini = 0.0</text>\n",
       "<text text-anchor=\"start\" x=\"270.5\" y=\"-268.3\" font-family=\"Helvetica,sans-Serif\" font-size=\"14.00\" fill=\"#000000\">samples = 2</text>\n",
       "<text text-anchor=\"start\" x=\"268\" y=\"-253.3\" font-family=\"Helvetica,sans-Serif\" font-size=\"14.00\" fill=\"#000000\">value = [2, 0]</text>\n",
       "<text text-anchor=\"start\" x=\"276.5\" y=\"-238.3\" font-family=\"Helvetica,sans-Serif\" font-size=\"14.00\" fill=\"#000000\">class = no</text>\n",
       "</g>\n",
       "<!-- 0&#45;&gt;6 -->\n",
       "<g id=\"edge6\" class=\"edge\">\n",
       "<title>0&#45;&gt;6</title>\n",
       "<path fill=\"none\" stroke=\"#000000\" d=\"M266.8841,-341.8796C272.798,-330.8835 279.1949,-318.9893 285.158,-307.9015\"/>\n",
       "<polygon fill=\"#000000\" stroke=\"#000000\" points=\"288.3908,-309.2799 290.0449,-298.8149 282.2258,-305.9642 288.3908,-309.2799\"/>\n",
       "<text text-anchor=\"middle\" x=\"297.2406\" y=\"-319.057\" font-family=\"Helvetica,sans-Serif\" font-size=\"14.00\" fill=\"#000000\">False</text>\n",
=======
       "<path fill=\"none\" stroke=\"#000000\" d=\"M89.4657,-341.8796C83.6442,-330.8835 77.3473,-318.9893 71.4773,-307.9015\"/>\n",
       "<polygon fill=\"#000000\" stroke=\"#000000\" points=\"74.4389,-306.0152 66.6667,-298.8149 68.2524,-309.2905 74.4389,-306.0152\"/>\n",
       "<text text-anchor=\"middle\" x=\"59.3146\" y=\"-319.0094\" font-family=\"Helvetica,sans-Serif\" font-size=\"14.00\" fill=\"#000000\">True</text>\n",
>>>>>>> 7a8c8eb08eaf71e3bccdfcfe9d3079cd3aa48311
       "</g>\n",
       "<!-- 2 -->\n",
       "<g id=\"node3\" class=\"node\">\n",
       "<title>2</title>\n",
<<<<<<< HEAD
       "<path fill=\"#ffffff\" stroke=\"#000000\" d=\"M178.5,-187C178.5,-187 32.5,-187 32.5,-187 26.5,-187 20.5,-181 20.5,-175 20.5,-175 20.5,-116 20.5,-116 20.5,-110 26.5,-104 32.5,-104 32.5,-104 178.5,-104 178.5,-104 184.5,-104 190.5,-110 190.5,-116 190.5,-116 190.5,-175 190.5,-175 190.5,-181 184.5,-187 178.5,-187\"/>\n",
       "<text text-anchor=\"start\" x=\"28.5\" y=\"-171.8\" font-family=\"Helvetica,sans-Serif\" font-size=\"14.00\" fill=\"#000000\">years_post&#45;sec_ed ≤ 7.5</text>\n",
       "<text text-anchor=\"start\" x=\"76.5\" y=\"-156.8\" font-family=\"Helvetica,sans-Serif\" font-size=\"14.00\" fill=\"#000000\">gini = 0.5</text>\n",
       "<text text-anchor=\"start\" x=\"67.5\" y=\"-141.8\" font-family=\"Helvetica,sans-Serif\" font-size=\"14.00\" fill=\"#000000\">samples = 2</text>\n",
       "<text text-anchor=\"start\" x=\"65\" y=\"-126.8\" font-family=\"Helvetica,sans-Serif\" font-size=\"14.00\" fill=\"#000000\">value = [1, 1]</text>\n",
       "<text text-anchor=\"start\" x=\"73.5\" y=\"-111.8\" font-family=\"Helvetica,sans-Serif\" font-size=\"14.00\" fill=\"#000000\">class = no</text>\n",
=======
       "<path fill=\"#9ccef2\" stroke=\"#000000\" d=\"M221.5,-306C221.5,-306 127.5,-306 127.5,-306 121.5,-306 115.5,-300 115.5,-294 115.5,-294 115.5,-235 115.5,-235 115.5,-229 121.5,-223 127.5,-223 127.5,-223 221.5,-223 221.5,-223 227.5,-223 233.5,-229 233.5,-235 233.5,-235 233.5,-294 233.5,-294 233.5,-300 227.5,-306 221.5,-306\"/>\n",
       "<text text-anchor=\"start\" x=\"123.5\" y=\"-290.8\" font-family=\"Helvetica,sans-Serif\" font-size=\"14.00\" fill=\"#000000\">total_bill ≤ 150.0</text>\n",
       "<text text-anchor=\"start\" x=\"138\" y=\"-275.8\" font-family=\"Helvetica,sans-Serif\" font-size=\"14.00\" fill=\"#000000\">gini = 0.444</text>\n",
       "<text text-anchor=\"start\" x=\"136.5\" y=\"-260.8\" font-family=\"Helvetica,sans-Serif\" font-size=\"14.00\" fill=\"#000000\">samples = 3</text>\n",
       "<text text-anchor=\"start\" x=\"134\" y=\"-245.8\" font-family=\"Helvetica,sans-Serif\" font-size=\"14.00\" fill=\"#000000\">value = [1, 2]</text>\n",
       "<text text-anchor=\"start\" x=\"139.5\" y=\"-230.8\" font-family=\"Helvetica,sans-Serif\" font-size=\"14.00\" fill=\"#000000\">class = yes</text>\n",
>>>>>>> 7a8c8eb08eaf71e3bccdfcfe9d3079cd3aa48311
       "</g>\n",
       "<!-- 0&#45;&gt;2 -->\n",
       "<g id=\"edge2\" class=\"edge\">\n",
<<<<<<< HEAD
       "<title>1&#45;&gt;2</title>\n",
       "<path fill=\"none\" stroke=\"#000000\" d=\"M154.9189,-222.8796C149.3395,-214.1434 143.3981,-204.8404 137.6405,-195.8253\"/>\n",
       "<polygon fill=\"#000000\" stroke=\"#000000\" points=\"140.5269,-193.8421 132.1946,-187.2981 134.6274,-197.6098 140.5269,-193.8421\"/>\n",
       "</g>\n",
       "<!-- 5 -->\n",
       "<g id=\"node6\" class=\"node\">\n",
       "<title>5</title>\n",
       "<path fill=\"#399de5\" stroke=\"#000000\" d=\"M294,-179.5C294,-179.5 221,-179.5 221,-179.5 215,-179.5 209,-173.5 209,-167.5 209,-167.5 209,-123.5 209,-123.5 209,-117.5 215,-111.5 221,-111.5 221,-111.5 294,-111.5 294,-111.5 300,-111.5 306,-117.5 306,-123.5 306,-123.5 306,-167.5 306,-167.5 306,-173.5 300,-179.5 294,-179.5\"/>\n",
       "<text text-anchor=\"start\" x=\"228.5\" y=\"-164.3\" font-family=\"Helvetica,sans-Serif\" font-size=\"14.00\" fill=\"#000000\">gini = 0.0</text>\n",
       "<text text-anchor=\"start\" x=\"219.5\" y=\"-149.3\" font-family=\"Helvetica,sans-Serif\" font-size=\"14.00\" fill=\"#000000\">samples = 1</text>\n",
       "<text text-anchor=\"start\" x=\"217\" y=\"-134.3\" font-family=\"Helvetica,sans-Serif\" font-size=\"14.00\" fill=\"#000000\">value = [0, 1]</text>\n",
       "<text text-anchor=\"start\" x=\"222.5\" y=\"-119.3\" font-family=\"Helvetica,sans-Serif\" font-size=\"14.00\" fill=\"#000000\">class = yes</text>\n",
       "</g>\n",
       "<!-- 1&#45;&gt;5 -->\n",
       "<g id=\"edge5\" class=\"edge\">\n",
       "<title>1&#45;&gt;5</title>\n",
       "<path fill=\"none\" stroke=\"#000000\" d=\"M208.0811,-222.8796C215.174,-211.7735 222.8521,-199.7513 229.9937,-188.5691\"/>\n",
       "<polygon fill=\"#000000\" stroke=\"#000000\" points=\"233.1518,-190.1267 235.5846,-179.8149 227.2523,-186.3589 233.1518,-190.1267\"/>\n",
=======
       "<title>0&#45;&gt;2</title>\n",
       "<path fill=\"none\" stroke=\"#000000\" d=\"M133.5343,-341.8796C138.064,-333.3236 142.8815,-324.2238 147.5618,-315.3833\"/>\n",
       "<polygon fill=\"#000000\" stroke=\"#000000\" points=\"150.7859,-316.7736 152.3716,-306.2981 144.5994,-313.4983 150.7859,-316.7736\"/>\n",
       "<text text-anchor=\"middle\" x=\"159.7238\" y=\"-326.4925\" font-family=\"Helvetica,sans-Serif\" font-size=\"14.00\" fill=\"#000000\">False</text>\n",
>>>>>>> 7a8c8eb08eaf71e3bccdfcfe9d3079cd3aa48311
       "</g>\n",
       "<!-- 3 -->\n",
       "<g id=\"node4\" class=\"node\">\n",
       "<title>3</title>\n",
<<<<<<< HEAD
       "<path fill=\"#e58139\" stroke=\"#000000\" d=\"M85,-68C85,-68 12,-68 12,-68 6,-68 0,-62 0,-56 0,-56 0,-12 0,-12 0,-6 6,0 12,0 12,0 85,0 85,0 91,0 97,-6 97,-12 97,-12 97,-56 97,-56 97,-62 91,-68 85,-68\"/>\n",
       "<text text-anchor=\"start\" x=\"19.5\" y=\"-52.8\" font-family=\"Helvetica,sans-Serif\" font-size=\"14.00\" fill=\"#000000\">gini = 0.0</text>\n",
       "<text text-anchor=\"start\" x=\"10.5\" y=\"-37.8\" font-family=\"Helvetica,sans-Serif\" font-size=\"14.00\" fill=\"#000000\">samples = 1</text>\n",
       "<text text-anchor=\"start\" x=\"8\" y=\"-22.8\" font-family=\"Helvetica,sans-Serif\" font-size=\"14.00\" fill=\"#000000\">value = [1, 0]</text>\n",
       "<text text-anchor=\"start\" x=\"16.5\" y=\"-7.8\" font-family=\"Helvetica,sans-Serif\" font-size=\"14.00\" fill=\"#000000\">class = no</text>\n",
=======
       "<path fill=\"#399de5\" stroke=\"#000000\" d=\"M148,-179.5C148,-179.5 75,-179.5 75,-179.5 69,-179.5 63,-173.5 63,-167.5 63,-167.5 63,-123.5 63,-123.5 63,-117.5 69,-111.5 75,-111.5 75,-111.5 148,-111.5 148,-111.5 154,-111.5 160,-117.5 160,-123.5 160,-123.5 160,-167.5 160,-167.5 160,-173.5 154,-179.5 148,-179.5\"/>\n",
       "<text text-anchor=\"start\" x=\"82.5\" y=\"-164.3\" font-family=\"Helvetica,sans-Serif\" font-size=\"14.00\" fill=\"#000000\">gini = 0.0</text>\n",
       "<text text-anchor=\"start\" x=\"73.5\" y=\"-149.3\" font-family=\"Helvetica,sans-Serif\" font-size=\"14.00\" fill=\"#000000\">samples = 1</text>\n",
       "<text text-anchor=\"start\" x=\"71\" y=\"-134.3\" font-family=\"Helvetica,sans-Serif\" font-size=\"14.00\" fill=\"#000000\">value = [0, 1]</text>\n",
       "<text text-anchor=\"start\" x=\"76.5\" y=\"-119.3\" font-family=\"Helvetica,sans-Serif\" font-size=\"14.00\" fill=\"#000000\">class = yes</text>\n",
>>>>>>> 7a8c8eb08eaf71e3bccdfcfe9d3079cd3aa48311
       "</g>\n",
       "<!-- 2&#45;&gt;3 -->\n",
       "<g id=\"edge3\" class=\"edge\">\n",
       "<title>2&#45;&gt;3</title>\n",
<<<<<<< HEAD
       "<path fill=\"none\" stroke=\"#000000\" d=\"M84.2753,-103.9815C79.8119,-95.2504 75.0933,-86.0202 70.5987,-77.2281\"/>\n",
       "<polygon fill=\"#000000\" stroke=\"#000000\" points=\"73.6842,-75.5745 66.016,-68.2637 67.4514,-78.7608 73.6842,-75.5745\"/>\n",
=======
       "<path fill=\"none\" stroke=\"#000000\" d=\"M152.4657,-222.8796C146.6442,-211.8835 140.3473,-199.9893 134.4773,-188.9015\"/>\n",
       "<polygon fill=\"#000000\" stroke=\"#000000\" points=\"137.4389,-187.0152 129.6667,-179.8149 131.2524,-190.2905 137.4389,-187.0152\"/>\n",
>>>>>>> 7a8c8eb08eaf71e3bccdfcfe9d3079cd3aa48311
       "</g>\n",
       "<!-- 4 -->\n",
       "<g id=\"node5\" class=\"node\">\n",
       "<title>4</title>\n",
<<<<<<< HEAD
       "<path fill=\"#399de5\" stroke=\"#000000\" d=\"M200,-68C200,-68 127,-68 127,-68 121,-68 115,-62 115,-56 115,-56 115,-12 115,-12 115,-6 121,0 127,0 127,0 200,0 200,0 206,0 212,-6 212,-12 212,-12 212,-56 212,-56 212,-62 206,-68 200,-68\"/>\n",
       "<text text-anchor=\"start\" x=\"134.5\" y=\"-52.8\" font-family=\"Helvetica,sans-Serif\" font-size=\"14.00\" fill=\"#000000\">gini = 0.0</text>\n",
       "<text text-anchor=\"start\" x=\"125.5\" y=\"-37.8\" font-family=\"Helvetica,sans-Serif\" font-size=\"14.00\" fill=\"#000000\">samples = 1</text>\n",
       "<text text-anchor=\"start\" x=\"123\" y=\"-22.8\" font-family=\"Helvetica,sans-Serif\" font-size=\"14.00\" fill=\"#000000\">value = [0, 1]</text>\n",
       "<text text-anchor=\"start\" x=\"128.5\" y=\"-7.8\" font-family=\"Helvetica,sans-Serif\" font-size=\"14.00\" fill=\"#000000\">class = yes</text>\n",
=======
       "<path fill=\"#ffffff\" stroke=\"#000000\" d=\"M284.5,-187C284.5,-187 190.5,-187 190.5,-187 184.5,-187 178.5,-181 178.5,-175 178.5,-175 178.5,-116 178.5,-116 178.5,-110 184.5,-104 190.5,-104 190.5,-104 284.5,-104 284.5,-104 290.5,-104 296.5,-110 296.5,-116 296.5,-116 296.5,-175 296.5,-175 296.5,-181 290.5,-187 284.5,-187\"/>\n",
       "<text text-anchor=\"start\" x=\"186.5\" y=\"-171.8\" font-family=\"Helvetica,sans-Serif\" font-size=\"14.00\" fill=\"#000000\">total_bill ≤ 350.0</text>\n",
       "<text text-anchor=\"start\" x=\"208.5\" y=\"-156.8\" font-family=\"Helvetica,sans-Serif\" font-size=\"14.00\" fill=\"#000000\">gini = 0.5</text>\n",
       "<text text-anchor=\"start\" x=\"199.5\" y=\"-141.8\" font-family=\"Helvetica,sans-Serif\" font-size=\"14.00\" fill=\"#000000\">samples = 2</text>\n",
       "<text text-anchor=\"start\" x=\"197\" y=\"-126.8\" font-family=\"Helvetica,sans-Serif\" font-size=\"14.00\" fill=\"#000000\">value = [1, 1]</text>\n",
       "<text text-anchor=\"start\" x=\"205.5\" y=\"-111.8\" font-family=\"Helvetica,sans-Serif\" font-size=\"14.00\" fill=\"#000000\">class = no</text>\n",
>>>>>>> 7a8c8eb08eaf71e3bccdfcfe9d3079cd3aa48311
       "</g>\n",
       "<!-- 2&#45;&gt;4 -->\n",
       "<g id=\"edge4\" class=\"edge\">\n",
       "<title>2&#45;&gt;4</title>\n",
<<<<<<< HEAD
       "<path fill=\"none\" stroke=\"#000000\" d=\"M127.0971,-103.9815C131.6388,-95.2504 136.4402,-86.0202 141.0137,-77.2281\"/>\n",
       "<polygon fill=\"#000000\" stroke=\"#000000\" points=\"144.1669,-78.7504 145.6767,-68.2637 137.9569,-75.52 144.1669,-78.7504\"/>\n",
=======
       "<path fill=\"none\" stroke=\"#000000\" d=\"M196.5343,-222.8796C201.064,-214.3236 205.8815,-205.2238 210.5618,-196.3833\"/>\n",
       "<polygon fill=\"#000000\" stroke=\"#000000\" points=\"213.7859,-197.7736 215.3716,-187.2981 207.5994,-194.4983 213.7859,-197.7736\"/>\n",
       "</g>\n",
       "<!-- 5 -->\n",
       "<g id=\"node6\" class=\"node\">\n",
       "<title>5</title>\n",
       "<path fill=\"#e58139\" stroke=\"#000000\" d=\"M216,-68C216,-68 143,-68 143,-68 137,-68 131,-62 131,-56 131,-56 131,-12 131,-12 131,-6 137,0 143,0 143,0 216,0 216,0 222,0 228,-6 228,-12 228,-12 228,-56 228,-56 228,-62 222,-68 216,-68\"/>\n",
       "<text text-anchor=\"start\" x=\"150.5\" y=\"-52.8\" font-family=\"Helvetica,sans-Serif\" font-size=\"14.00\" fill=\"#000000\">gini = 0.0</text>\n",
       "<text text-anchor=\"start\" x=\"141.5\" y=\"-37.8\" font-family=\"Helvetica,sans-Serif\" font-size=\"14.00\" fill=\"#000000\">samples = 1</text>\n",
       "<text text-anchor=\"start\" x=\"139\" y=\"-22.8\" font-family=\"Helvetica,sans-Serif\" font-size=\"14.00\" fill=\"#000000\">value = [1, 0]</text>\n",
       "<text text-anchor=\"start\" x=\"147.5\" y=\"-7.8\" font-family=\"Helvetica,sans-Serif\" font-size=\"14.00\" fill=\"#000000\">class = no</text>\n",
       "</g>\n",
       "<!-- 4&#45;&gt;5 -->\n",
       "<g id=\"edge5\" class=\"edge\">\n",
       "<title>4&#45;&gt;5</title>\n",
       "<path fill=\"none\" stroke=\"#000000\" d=\"M215.9029,-103.9815C211.3612,-95.2504 206.5598,-86.0202 201.9863,-77.2281\"/>\n",
       "<polygon fill=\"#000000\" stroke=\"#000000\" points=\"205.0431,-75.52 197.3233,-68.2637 198.8331,-78.7504 205.0431,-75.52\"/>\n",
       "</g>\n",
       "<!-- 6 -->\n",
       "<g id=\"node7\" class=\"node\">\n",
       "<title>6</title>\n",
       "<path fill=\"#399de5\" stroke=\"#000000\" d=\"M331,-68C331,-68 258,-68 258,-68 252,-68 246,-62 246,-56 246,-56 246,-12 246,-12 246,-6 252,0 258,0 258,0 331,0 331,0 337,0 343,-6 343,-12 343,-12 343,-56 343,-56 343,-62 337,-68 331,-68\"/>\n",
       "<text text-anchor=\"start\" x=\"265.5\" y=\"-52.8\" font-family=\"Helvetica,sans-Serif\" font-size=\"14.00\" fill=\"#000000\">gini = 0.0</text>\n",
       "<text text-anchor=\"start\" x=\"256.5\" y=\"-37.8\" font-family=\"Helvetica,sans-Serif\" font-size=\"14.00\" fill=\"#000000\">samples = 1</text>\n",
       "<text text-anchor=\"start\" x=\"254\" y=\"-22.8\" font-family=\"Helvetica,sans-Serif\" font-size=\"14.00\" fill=\"#000000\">value = [0, 1]</text>\n",
       "<text text-anchor=\"start\" x=\"259.5\" y=\"-7.8\" font-family=\"Helvetica,sans-Serif\" font-size=\"14.00\" fill=\"#000000\">class = yes</text>\n",
       "</g>\n",
       "<!-- 4&#45;&gt;6 -->\n",
       "<g id=\"edge6\" class=\"edge\">\n",
       "<title>4&#45;&gt;6</title>\n",
       "<path fill=\"none\" stroke=\"#000000\" d=\"M258.7247,-103.9815C263.1881,-95.2504 267.9067,-86.0202 272.4013,-77.2281\"/>\n",
       "<polygon fill=\"#000000\" stroke=\"#000000\" points=\"275.5486,-78.7608 276.984,-68.2637 269.3158,-75.5745 275.5486,-78.7608\"/>\n",
>>>>>>> 7a8c8eb08eaf71e3bccdfcfe9d3079cd3aa48311
       "</g>\n",
       "</g>\n",
       "</svg>\n"
      ],
      "text/plain": [
<<<<<<< HEAD
       "<graphviz.files.Source at 0x1a1741a080>"
      ]
     },
     "execution_count": 14,
=======
       "<graphviz.files.Source at 0x1a1ad3c048>"
      ]
     },
     "execution_count": 27,
>>>>>>> 7a8c8eb08eaf71e3bccdfcfe9d3079cd3aa48311
     "metadata": {},
     "output_type": "execute_result"
    }
   ],
   "source": [
    "import graphviz \n",
    "dot_data = tree.export_graphviz(ct, out_file=None, feature_names= ['salary', \n",
    "                                                                   'total_bill', \n",
    "                                                                   'club_member',\n",
    "                                                                   'years_post-sec_ed'],\n",
    "                     class_names=['no', 'yes'],\n",
    "                        filled=True, rounded=True,  \n",
    "                     special_characters=True)  \n",
    "\n",
    "graph = graphviz.Source(dot_data) \n",
    "graph"
   ]
  },
  {
   "cell_type": "code",
   "execution_count": 16,
   "metadata": {},
   "outputs": [
    {
     "data": {
      "text/plain": [
       "['salary', 'total_bill', 'club_member', 'years_post-sec_ed']"
      ]
     },
     "execution_count": 16,
     "metadata": {},
     "output_type": "execute_result"
    }
   ],
   "source": [
    "features = custs.columns.tolist()\n",
    "features.remove('paid')\n",
    "features"
   ]
  },
  {
   "cell_type": "code",
   "execution_count": 17,
   "metadata": {},
   "outputs": [
    {
     "name": "stdout",
     "output_type": "stream",
     "text": [
      "|--- total_bill <= 750.00\n",
      "|   |--- salary <= 80000.00\n",
      "|   |   |--- years_post-sec_ed <= 7.50\n",
      "|   |   |   |--- class: False\n",
      "|   |   |--- years_post-sec_ed >  7.50\n",
      "|   |   |   |--- class: True\n",
      "|   |--- salary >  80000.00\n",
      "|   |   |--- class: True\n",
      "|--- total_bill >  750.00\n",
      "|   |--- class: False\n",
      "\n"
     ]
    }
   ],
   "source": [
    "from sklearn.tree.export import export_text\n",
    "\n",
    "r = export_text(ct, feature_names= features)\n",
    "print(r)"
   ]
  },
  {
   "cell_type": "code",
   "execution_count": 18,
   "metadata": {
    "slideshow": {
     "slide_type": "skip"
    }
   },
   "outputs": [
    {
     "ename": "NameError",
     "evalue": "name 'dt_mod' is not defined",
     "output_type": "error",
     "traceback": [
      "\u001b[0;31m---------------------------------------------------------------------------\u001b[0m",
      "\u001b[0;31mNameError\u001b[0m                                 Traceback (most recent call last)",
      "\u001b[0;32m<ipython-input-18-8556905977d2>\u001b[0m in \u001b[0;36m<module>\u001b[0;34m\u001b[0m\n\u001b[0;32m----> 1\u001b[0;31m \u001b[0mdt_mod\u001b[0m\u001b[0;34m.\u001b[0m\u001b[0mtree_\u001b[0m\u001b[0;34m.\u001b[0m\u001b[0mnode_count\u001b[0m\u001b[0;34m\u001b[0m\u001b[0;34m\u001b[0m\u001b[0m\n\u001b[0m",
      "\u001b[0;31mNameError\u001b[0m: name 'dt_mod' is not defined"
     ]
    }
   ],
   "source": [
    "dt_mod.tree_.node_count"
   ]
  },
  {
   "cell_type": "code",
   "execution_count": 49,
   "metadata": {
    "slideshow": {
     "slide_type": "skip"
    }
   },
   "outputs": [],
   "source": [
    "import numpy as np"
   ]
  },
  {
   "cell_type": "code",
   "execution_count": 50,
   "metadata": {
    "slideshow": {
     "slide_type": "skip"
    }
   },
   "outputs": [
    {
     "name": "stdout",
     "output_type": "stream",
     "text": [
      "The binary tree structure has 5 nodes and has the following tree structure:\n",
      "node=0 test node: go to node 1 if X[:, 1] <= 750.0 else to node 4.\n",
      "\tnode=1 test node: go to node 2 if X[:, 3] <= 3.5 else to node 3.\n",
      "\t\tnode=2 leaf node.\n",
      "\t\tnode=3 leaf node.\n",
      "\tnode=4 leaf node.\n",
      "\n"
     ]
    }
   ],
   "source": [
    "n_nodes = dt_mod.tree_.node_count\n",
    "children_left = dt_mod.tree_.children_left\n",
    "children_right = dt_mod.tree_.children_right\n",
    "feature = dt_mod.tree_.feature\n",
    "threshold = dt_mod.tree_.threshold\n",
    "\n",
    "# This code courtesy of sklearn:\n",
    "# https://scikit-learn.org/stable/auto_examples/tree/plot_unveil_tree_structure.html\n",
    "\n",
    "\n",
    "# The tree structure can be traversed to compute various properties such\n",
    "# as the depth of each node and whether or not it is a leaf.\n",
    "node_depth = np.zeros(shape=n_nodes, dtype=np.int64)\n",
    "is_leaves = np.zeros(shape=n_nodes, dtype=bool)\n",
    "stack = [(0, -1)]  # seed is the root node id and its parent depth\n",
    "while len(stack) > 0:\n",
    "    node_id, parent_depth = stack.pop()\n",
    "    node_depth[node_id] = parent_depth + 1\n",
    "\n",
    "    # If we have a test node\n",
    "    if (children_left[node_id] != children_right[node_id]):\n",
    "        stack.append((children_left[node_id], parent_depth + 1))\n",
    "        stack.append((children_right[node_id], parent_depth + 1))\n",
    "    else:\n",
    "        is_leaves[node_id] = True\n",
    "\n",
    "print(\"The binary tree structure has %s nodes and has \"\n",
    "      \"the following tree structure:\"\n",
    "      % n_nodes)\n",
    "for i in range(n_nodes):\n",
    "    if is_leaves[i]:\n",
    "        print(\"%snode=%s leaf node.\" % (node_depth[i] * \"\\t\", i))\n",
    "    else:\n",
    "        print(\"%snode=%s test node: go to node %s if X[:, %s] <= %s else to \"\n",
    "              \"node %s.\"\n",
    "              % (node_depth[i] * \"\\t\",\n",
    "                 i,\n",
    "                 children_left[i],\n",
    "                 feature[i],\n",
    "                 threshold[i],\n",
    "                 children_right[i],\n",
    "                 ))\n",
    "print()"
   ]
  },
  {
   "cell_type": "markdown",
   "metadata": {
    "slideshow": {
     "slide_type": "notes"
    }
   },
   "source": [
    "### Interpretation\n",
    "\n",
    "Let's unpack this:\n",
    "\n",
    "The first question (\"test\") is: \"Is Salary $\\leq$ 57500?\" If so, then stop: All (i.e. both) such customers are *non-payers*.\n",
    "\n",
    "If not: The next test (for those whose salary > 57500) is: \"Is Total Bill $\\leq$ 150?\" If so, then stop: All such customers (i.e. customer 1) are *payers*. Notice how 150 is midway between the total bills of customer 1 (a payer) and customer 4 (a non-payer).\n",
    "\n",
    "If not: The next test (for those whose total bill > 150) is: \"Is the number of Years of Post-Sec Ed $\\leq$ 3.5?\" If so, then stop: All such customers (i.e. customer 3) are *payers*. If not, then stop: All such customers (i.e. customer 4) are *non-payers*. Notice how 3.5 is midway between the numbers of years of post-sec ed of customer 3 (a payer) and customer 4 (a non-payer)."
   ]
  },
  {
   "cell_type": "code",
   "execution_count": null,
   "metadata": {},
   "outputs": [],
   "source": [
    "ct = DecisionTreeClassifier()"
   ]
  },
  {
   "cell_type": "code",
   "execution_count": 34,
   "metadata": {
    "slideshow": {
     "slide_type": "notes"
    }
   },
   "outputs": [
    {
     "data": {
      "text/plain": [
       "array([0, 1, 2, 2, 3, 3, 1])"
      ]
     },
     "execution_count": 34,
     "metadata": {},
     "output_type": "execute_result"
    }
   ],
   "source": [
    "node_depth"
   ]
  },
  {
   "cell_type": "code",
   "execution_count": 35,
   "metadata": {
    "slideshow": {
     "slide_type": "notes"
    }
   },
   "outputs": [
    {
     "data": {
      "text/plain": [
       "[]"
      ]
     },
     "execution_count": 35,
     "metadata": {},
     "output_type": "execute_result"
    }
   ],
   "source": [
    "stack"
   ]
  },
  {
   "cell_type": "code",
   "execution_count": 21,
   "metadata": {
    "slideshow": {
     "slide_type": "notes"
    }
   },
   "outputs": [
    {
     "data": {
      "text/plain": [
       "array([ 1, -1,  3, -1,  5, -1, -1])"
      ]
     },
     "execution_count": 21,
     "metadata": {},
     "output_type": "execute_result"
    }
   ],
   "source": [
    "ct.tree_.children_left"
   ]
  },
  {
   "cell_type": "code",
   "execution_count": 22,
   "metadata": {
    "slideshow": {
     "slide_type": "notes"
    }
   },
   "outputs": [
    {
     "data": {
      "text/plain": [
       "array([ 2, -1,  4, -1,  6, -1, -1])"
      ]
     },
     "execution_count": 22,
     "metadata": {},
     "output_type": "execute_result"
    }
   ],
   "source": [
    "ct.tree_.children_right"
   ]
  },
  {
   "cell_type": "markdown",
   "metadata": {
    "slideshow": {
     "slide_type": "slide"
    }
   },
   "source": [
    "### Evaluating a decision tree:\n",
    "- Train and test - use predict to compare auc of test and train\n",
    "- \"prune\" the tree: adjust minimum number of samples required at a leaf node or a split as well as setting the maximum depth of the tree.\n"
   ]
  },
  {
   "cell_type": "markdown",
   "metadata": {
    "slideshow": {
     "slide_type": "slide"
    }
   },
   "source": [
    "### Pros and Cons of Decision Trees"
   ]
  },
  {
   "cell_type": "markdown",
   "metadata": {
    "slideshow": {
     "slide_type": "slide"
    }
   },
   "source": [
    "#### Pros:\n",
    "- Easy to Understand\n",
    "- Useful in Data exploration\n",
    "- Less data cleaning required\n",
    "- Data type is not a constraint\n",
    "- Non Parametric Method\n"
   ]
  },
  {
   "cell_type": "markdown",
   "metadata": {
    "slideshow": {
     "slide_type": "slide"
    }
   },
   "source": [
    "#### Cons:\n",
    "- Prone to over-fitting\n",
    "- Struggles with creating cut-off splits with continuous variables\n"
   ]
  },
  {
   "cell_type": "markdown",
   "metadata": {
    "slideshow": {
     "slide_type": "slide"
    }
   },
   "source": [
    "## Outcome Review\n",
    "\n",
    "- summarize the intuitive logic behind decision trees\n",
    "- solve a small example with metric\n",
    "- explore the fine-tuning options in `sklearn` for decision trees\n",
    "- build a decision tree in `sklearn`\n"
   ]
  }
 ],
 "metadata": {
  "celltoolbar": "Slideshow",
  "kernelspec": {
   "display_name": "Python 3",
   "language": "python",
   "name": "python3"
  },
  "language_info": {
   "codemirror_mode": {
    "name": "ipython",
    "version": 3
   },
   "file_extension": ".py",
   "mimetype": "text/x-python",
   "name": "python",
   "nbconvert_exporter": "python",
   "pygments_lexer": "ipython3",
   "version": "3.6.9"
  },
  "toc": {
   "base_numbering": 1,
   "nav_menu": {},
   "number_sections": true,
   "sideBar": true,
   "skip_h1_title": false,
   "title_cell": "Table of Contents",
   "title_sidebar": "Contents",
   "toc_cell": false,
   "toc_position": {},
   "toc_section_display": true,
   "toc_window_display": false
  }
 },
 "nbformat": 4,
 "nbformat_minor": 4
}
